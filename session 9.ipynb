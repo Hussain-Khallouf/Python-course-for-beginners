{
 "cells": [
  {
   "cell_type": "markdown",
   "id": "59df30f3",
   "metadata": {},
   "source": [
    "# welcome to session 9\n",
    "\n"
   ]
  },
  {
   "cell_type": "markdown",
   "id": "94593861",
   "metadata": {},
   "source": [
    "## library automation project"
   ]
  },
  {
   "cell_type": "code",
   "execution_count": 2,
   "id": "3dcc3104",
   "metadata": {},
   "outputs": [],
   "source": [
    "#code"
   ]
  },
  {
   "cell_type": "markdown",
   "id": "d44d3b35",
   "metadata": {},
   "source": [
    "## File Handling\n",
    "File handling is an important part of any application.\n",
    "Python has several functions for creating, reading, updating, and deleting files."
   ]
  },
  {
   "cell_type": "markdown",
   "id": "d5fc2a9d",
   "metadata": {},
   "source": [
    "The key function for working with files in Python is the `open()` function.\n",
    "\n",
    "The `open()` function takes two parameters; filename, and mode.\n",
    "\n",
    "There are four different methods (modes) for opening a file:\n",
    "* `\"r\"` - Read - Default value. Opens a file for reading, error if the file does not exist\n",
    "\n",
    "* `\"a\"` - Append - Opens a file for appending, creates the file if it does not exist\n",
    "\n",
    "* `\"w\"` - Write - Opens a file for writing, creates the file if it does not exist\n",
    "\n",
    "* `\"x\"` - Create - Creates the specified file, returns an error if the file exists"
   ]
  },
  {
   "cell_type": "markdown",
   "id": "7772fbee",
   "metadata": {},
   "source": [
    "### Open a File\n",
    "Assume we have the following file, located in the same folder as Python:\n",
    "<br>`demofile.txt` contains:\n",
    "<br>`\"Hello! Welcome to demofile.\n",
    "txt This file is for testing purposes. \n",
    "Good Luck!\"`"
   ]
  },
  {
   "cell_type": "markdown",
   "id": "6c258303",
   "metadata": {},
   "source": [
    "To open the file, use the built-in `open()` function.\n",
    "\n",
    "The `open()` function returns a file object, which has a `read()` method for reading the content of the file:"
   ]
  },
  {
   "cell_type": "code",
   "execution_count": 1,
   "id": "a3cafbd1",
   "metadata": {},
   "outputs": [
    {
     "name": "stdout",
     "output_type": "stream",
     "text": [
      "Hello! Welcome to demofile.\n",
      "txt This file is for testing purposes. \n",
      "Good Luck!\n"
     ]
    }
   ],
   "source": [
    "f = open(\"demofile.txt\", \"r\")\n",
    "print(f.read())"
   ]
  },
  {
   "cell_type": "markdown",
   "id": "db26b0fb",
   "metadata": {},
   "source": [
    "If the file is located in a different location, you will have to specify the absolute file path, like this:"
   ]
  },
  {
   "cell_type": "code",
   "execution_count": 3,
   "id": "3770d14f",
   "metadata": {},
   "outputs": [
    {
     "name": "stdout",
     "output_type": "stream",
     "text": [
      "Hello! Welcome to demofile.\n",
      "txt This file is for testing purposes. \n",
      "Good Luck!\n"
     ]
    }
   ],
   "source": [
    "f = open(\"D:\\\\myfiles\\welcome.txt\", \"r\")\n",
    "print(f.read())"
   ]
  },
  {
   "cell_type": "markdown",
   "id": "ca072fab",
   "metadata": {},
   "source": [
    "#### Read Lines"
   ]
  },
  {
   "cell_type": "markdown",
   "id": "c891c085",
   "metadata": {},
   "source": [
    "You can return one line by using the `readline()` method:"
   ]
  },
  {
   "cell_type": "code",
   "execution_count": 4,
   "id": "fa366140",
   "metadata": {},
   "outputs": [
    {
     "name": "stdout",
     "output_type": "stream",
     "text": [
      "Hello! Welcome to demofile.\n",
      "\n"
     ]
    }
   ],
   "source": [
    "f = open(\"demofile.txt\", \"r\")\n",
    "print(f.readline())"
   ]
  },
  {
   "cell_type": "markdown",
   "id": "c9e3e395",
   "metadata": {},
   "source": [
    "By calling `readline()` two times, you can read the two first lines:"
   ]
  },
  {
   "cell_type": "code",
   "execution_count": 5,
   "id": "af71672a",
   "metadata": {},
   "outputs": [
    {
     "name": "stdout",
     "output_type": "stream",
     "text": [
      "Hello! Welcome to demofile.\n",
      "\n",
      "txt This file is for testing purposes. \n",
      "\n"
     ]
    }
   ],
   "source": [
    "f = open(\"demofile.txt\", \"r\")\n",
    "print(f.readline())\n",
    "print(f.readline())"
   ]
  },
  {
   "cell_type": "markdown",
   "id": "a34aa732",
   "metadata": {},
   "source": [
    "By looping through the lines of the file, you can read the whole file, line by line:"
   ]
  },
  {
   "cell_type": "code",
   "execution_count": 4,
   "id": "8c6aafe5",
   "metadata": {},
   "outputs": [
    {
     "name": "stdout",
     "output_type": "stream",
     "text": [
      "Hello! Welcome to demofile.\n",
      "\n",
      "txt This file is for testing purposes. \n",
      "\n",
      "Good Luck!\n"
     ]
    }
   ],
   "source": [
    "f = open(\"demofile.txt\", \"r\")\n",
    "for line in f.readlines():\n",
    "  print(line)"
   ]
  },
  {
   "cell_type": "markdown",
   "id": "58066366",
   "metadata": {},
   "source": [
    "#### Close Files\n",
    "It is a good practice to always close the file when you are done with it.\n"
   ]
  },
  {
   "cell_type": "code",
   "execution_count": 9,
   "id": "09439b71",
   "metadata": {},
   "outputs": [
    {
     "name": "stdout",
     "output_type": "stream",
     "text": [
      "Hello! Welcome to demofile.\n",
      "\n"
     ]
    }
   ],
   "source": [
    "f = open(\"demofile.txt\", \"r\")\n",
    "print(f.readline())\n",
    "f.close()"
   ]
  },
  {
   "cell_type": "markdown",
   "id": "46a17f3f",
   "metadata": {},
   "source": [
    "#### Write to an Existing File\n",
    "To write to an existing file, you must add a parameter to the `open()` function:\n",
    "\n",
    "* `\"a\"` - Append - will append to the end of the file\n",
    "\n",
    "* `\"w\"` - Write - will overwrite any existing content"
   ]
  },
  {
   "cell_type": "code",
   "execution_count": 9,
   "id": "2f633360",
   "metadata": {},
   "outputs": [
    {
     "name": "stdout",
     "output_type": "stream",
     "text": [
      "Now the file has more content!\n"
     ]
    }
   ],
   "source": [
    "f = open(\"demofile2.txt\", \"a\")\n",
    "f.write(\"Now the file has more content!\")\n",
    "f.close()\n",
    "\n",
    "#open and read the file after the appending:\n",
    "f = open(\"demofile2.txt\", \"r\")\n",
    "print(f.read())"
   ]
  },
  {
   "cell_type": "code",
   "execution_count": 10,
   "id": "46a5021f",
   "metadata": {},
   "outputs": [
    {
     "name": "stdout",
     "output_type": "stream",
     "text": [
      "Woops! I have deleted the content!\n"
     ]
    }
   ],
   "source": [
    "f = open(\"demofile2.txt\", \"w\")\n",
    "f.write(\"Woops! I have deleted the content!\")\n",
    "f.close()\n",
    "\n",
    "#open and read the file after the appending:\n",
    "f = open(\"demofile2.txt\", \"r\")\n",
    "print(f.read())"
   ]
  },
  {
   "cell_type": "markdown",
   "id": "0a042f66",
   "metadata": {},
   "source": [
    "#### exercise\n",
    "Assume we have the following file:\n",
    "<br>`employees.txt` contains:\n",
    "<br>`empl1,num\n",
    "empl2,num`\n",
    "<br>to read just employees name:"
   ]
  },
  {
   "cell_type": "code",
   "execution_count": 11,
   "id": "4db6d172",
   "metadata": {},
   "outputs": [
    {
     "name": "stdout",
     "output_type": "stream",
     "text": [
      "9639548235\n",
      "96398745\n"
     ]
    }
   ],
   "source": [
    "employees_file = open('employees.txt', \"r\")\n",
    "employees_file_list = employees_file.read().split(\"\\n\")\n",
    "for line in employees_file_list:\n",
    "    attributes_list = line.split(\",\")\n",
    "    name, num = attributes_list\n",
    "    print(num)"
   ]
  },
  {
   "cell_type": "code",
   "execution_count": null,
   "id": "2c3aa2a2",
   "metadata": {},
   "outputs": [],
   "source": []
  }
 ],
 "metadata": {
  "kernelspec": {
   "display_name": "Python 3 (ipykernel)",
   "language": "python",
   "name": "python3"
  },
  "language_info": {
   "codemirror_mode": {
    "name": "ipython",
    "version": 3
   },
   "file_extension": ".py",
   "mimetype": "text/x-python",
   "name": "python",
   "nbconvert_exporter": "python",
   "pygments_lexer": "ipython3",
   "version": "3.7.9"
  }
 },
 "nbformat": 4,
 "nbformat_minor": 5
}
