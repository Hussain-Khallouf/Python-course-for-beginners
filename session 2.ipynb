{
 "cells": [
  {
   "cell_type": "markdown",
   "id": "41f3941b",
   "metadata": {},
   "source": [
    "# Welcome to session 2 in python course by Hussain Khallouf"
   ]
  },
  {
   "cell_type": "markdown",
   "id": "c8c69dfb",
   "metadata": {},
   "source": [
    "# Data structures (cont.)"
   ]
  },
  {
   "cell_type": "markdown",
   "id": "cbfd906c",
   "metadata": {},
   "source": [
    "## Lists\n",
    "Lists an ordered collection of objects. <br>\n",
    "It’s are constructed with brackets [] and commas separating every element in the list."
   ]
  },
  {
   "cell_type": "code",
   "execution_count": 2,
   "id": "f280b526",
   "metadata": {},
   "outputs": [],
   "source": [
    "x = [1, 2, 3]"
   ]
  },
  {
   "cell_type": "markdown",
   "id": "160c6d7c",
   "metadata": {},
   "source": [
    "Python lists can contain different types of elements;\n",
    "a list element can be any Python object."
   ]
  },
  {
   "cell_type": "code",
   "execution_count": 3,
   "id": "554535be",
   "metadata": {},
   "outputs": [],
   "source": [
    "x = [2, \"two\", [1, 2, 3]]"
   ]
  },
  {
   "cell_type": "markdown",
   "id": "1640de69",
   "metadata": {},
   "source": [
    "Probably the most basic built-in list function is the `len` function, which returns the\n",
    "number of elements in a list:"
   ]
  },
  {
   "cell_type": "code",
   "execution_count": 4,
   "id": "e7c940a5",
   "metadata": {},
   "outputs": [
    {
     "data": {
      "text/plain": [
       "3"
      ]
     },
     "execution_count": 4,
     "metadata": {},
     "output_type": "execute_result"
    }
   ],
   "source": [
    "x = [2, \"two\", [1, 2, 3]]\n",
    "len(x)"
   ]
  },
  {
   "cell_type": "markdown",
   "id": "6af905f9",
   "metadata": {},
   "source": [
    "**Question:** What would len() return for each of the following:\n",
    "`[0]`; `[]`; `[[1, 3, [4, 5], 6], 7]`?"
   ]
  },
  {
   "cell_type": "code",
   "execution_count": null,
   "id": "726e1379",
   "metadata": {},
   "outputs": [],
   "source": []
  },
  {
   "cell_type": "markdown",
   "id": "ddce8c67",
   "metadata": {},
   "source": [
    "### List indices"
   ]
  },
  {
   "cell_type": "markdown",
   "id": "e4d202dc",
   "metadata": {},
   "source": [
    "Elements can be extracted from a Python list by using a notation like C’s array\n",
    "indexing. Like C and many other languages, Python starts counting from 0; asking for\n",
    "element 0 returns the first element of the list, asking for element 1 returns the second\n",
    "element: `list_name[index]`"
   ]
  },
  {
   "cell_type": "code",
   "execution_count": 5,
   "id": "d117c087",
   "metadata": {},
   "outputs": [
    {
     "name": "stdout",
     "output_type": "stream",
     "text": [
      "first\n"
     ]
    }
   ],
   "source": [
    "x = [\"first\", \"second\", \"third\", \"fourth\"]\n",
    "print(x[0])"
   ]
  },
  {
   "cell_type": "markdown",
   "id": "f26bd1a0",
   "metadata": {},
   "source": [
    "But Python indexing is more flexible than C indexing. If indices are negative numbers,\n",
    "they indicate positions counting from the end of the list, with –1 being the last\n",
    "position in the list"
   ]
  },
  {
   "cell_type": "code",
   "execution_count": 6,
   "id": "75e6b002",
   "metadata": {},
   "outputs": [
    {
     "name": "stdout",
     "output_type": "stream",
     "text": [
      "fourth\n"
     ]
    }
   ],
   "source": [
    "x = [\"first\", \"second\", \"third\", \"fourth\"]\n",
    "print(x[-1])"
   ]
  },
  {
   "cell_type": "markdown",
   "id": "bae5cdf3",
   "metadata": {},
   "source": [
    "**Slicing:** Python can extract or\n",
    "assign to an entire sublist at once,an operation known as *slicing*. Instead of entering\n",
    "`list[index]` to extract the item just after index, enter `list[index1:index2]` to\n",
    "extract all items including `index1` and up to *(but not including)* `index2` into a new\n",
    "list.<br>"
   ]
  },
  {
   "cell_type": "code",
   "execution_count": 7,
   "id": "6b44f780",
   "metadata": {},
   "outputs": [
    {
     "name": "stdout",
     "output_type": "stream",
     "text": [
      "['second', 'third']\n",
      "['first', 'second', 'third']\n",
      "[]\n"
     ]
    }
   ],
   "source": [
    "x = [\"first\", \"second\", \"third\", \"fourth\"]\n",
    "print(x[1:3])\n",
    "print(x[0:-1])\n",
    "print(x[-1:1])"
   ]
  },
  {
   "cell_type": "markdown",
   "id": "56f90b3b",
   "metadata": {},
   "source": [
    "Leaving out\n",
    "`index1` means “Go from the beginning of the list,” and leaving out `index2` means\n",
    "“Go to the end of the list”:"
   ]
  },
  {
   "cell_type": "code",
   "execution_count": 8,
   "id": "2c61f9ae",
   "metadata": {},
   "outputs": [
    {
     "name": "stdout",
     "output_type": "stream",
     "text": [
      "['first', 'second', 'third', 'fourth']\n"
     ]
    }
   ],
   "source": [
    "print(x[:])"
   ]
  },
  {
   "cell_type": "markdown",
   "id": "964a5a8d",
   "metadata": {},
   "source": [
    "you can slice the list by specific step.<br>`list[Start:End:Step]`"
   ]
  },
  {
   "cell_type": "code",
   "execution_count": 9,
   "id": "39ee98ac",
   "metadata": {},
   "outputs": [
    {
     "name": "stdout",
     "output_type": "stream",
     "text": [
      "['first', 'third']\n"
     ]
    }
   ],
   "source": [
    "print(x[::2])"
   ]
  },
  {
   "cell_type": "markdown",
   "id": "ec1b2572",
   "metadata": {},
   "source": [
    "Omitting both indices makes a new list that goes from the beginning to the end of the\n",
    "original list—that is, copies the list."
   ]
  },
  {
   "cell_type": "code",
   "execution_count": 53,
   "id": "d1b6e1ae",
   "metadata": {},
   "outputs": [
    {
     "name": "stdout",
     "output_type": "stream",
     "text": [
      "['first', 'second', 'third', 'fourth']\n"
     ]
    }
   ],
   "source": [
    "y = x[:]\n",
    "y[0] = '1 st'\n",
    "print(x)"
   ]
  },
  {
   "cell_type": "markdown",
   "id": "76d6b31b",
   "metadata": {},
   "source": [
    "**exercise:** Using what you know about the len()\n",
    "function and list slices, how would you combine the two to get the second half\n",
    "of a list when you don’t know what size it is?"
   ]
  },
  {
   "cell_type": "code",
   "execution_count": null,
   "id": "61d1ae0c",
   "metadata": {},
   "outputs": [],
   "source": []
  },
  {
   "cell_type": "markdown",
   "id": "232ed7a5",
   "metadata": {},
   "source": [
    "### Modifying lists\n",
    "You can use list index notation to modify a list as well as to extract an element from it, Slice notation can be used here too."
   ]
  },
  {
   "cell_type": "code",
   "execution_count": 58,
   "id": "b61ef606",
   "metadata": {},
   "outputs": [
    {
     "name": "stdout",
     "output_type": "stream",
     "text": [
      "[1, 'Two', 3, 4]\n"
     ]
    }
   ],
   "source": [
    "x = [1, 2, 3, 4]\n",
    "x[1]='Two'\n",
    "print(x)"
   ]
  },
  {
   "cell_type": "markdown",
   "id": "0c7871cc",
   "metadata": {},
   "source": [
    "#### Modifying list using method\n",
    "* `list.append(element)`\n",
    "* `list.pop(index)`\n",
    "* `list.extend(list2)`\n",
    "* `list.insert(index,element)`\n",
    "* `list.remove(element)`\n",
    "* `list.reverse()`\n",
    "* `list.sort()`"
   ]
  },
  {
   "cell_type": "code",
   "execution_count": 62,
   "id": "0dd8b919",
   "metadata": {},
   "outputs": [],
   "source": [
    "numbers = [0, 1, 2, 3, 4, 5, 6, 7, 8, 9]"
   ]
  },
  {
   "cell_type": "code",
   "execution_count": null,
   "id": "6a3ff7c7",
   "metadata": {},
   "outputs": [],
   "source": []
  },
  {
   "cell_type": "markdown",
   "id": "b1965e6e",
   "metadata": {},
   "source": [
    "List concatenation with the + operator"
   ]
  },
  {
   "cell_type": "code",
   "execution_count": 63,
   "id": "284e434a",
   "metadata": {},
   "outputs": [],
   "source": [
    "x = [1, 2, 3] + [4, 5, 6]"
   ]
  },
  {
   "cell_type": "markdown",
   "id": "3885bac6",
   "metadata": {},
   "source": [
    "List initialization with the * operator"
   ]
  },
  {
   "cell_type": "code",
   "execution_count": 65,
   "id": "33039656",
   "metadata": {},
   "outputs": [],
   "source": [
    "x = [5] * 4"
   ]
  },
  {
   "cell_type": "markdown",
   "id": "ae638748",
   "metadata": {},
   "source": [
    "**exercise:** What would be the result of len([[1,2]] * 3)?"
   ]
  },
  {
   "cell_type": "code",
   "execution_count": null,
   "id": "11cf872a",
   "metadata": {},
   "outputs": [],
   "source": [
    " "
   ]
  },
  {
   "cell_type": "markdown",
   "id": "7f4c110b",
   "metadata": {},
   "source": [
    "Build this list `[0,0,0]` two separate ways."
   ]
  },
  {
   "cell_type": "code",
   "execution_count": null,
   "id": "62956b6f",
   "metadata": {},
   "outputs": [],
   "source": [
    "#method 1\n"
   ]
  },
  {
   "cell_type": "code",
   "execution_count": null,
   "id": "4dd8401f",
   "metadata": {},
   "outputs": [],
   "source": [
    "#method 2\n"
   ]
  },
  {
   "cell_type": "markdown",
   "id": "8abde666",
   "metadata": {},
   "source": [
    "### Exercise\n",
    "for the following string you sould convert the first word to upper case<br>\n",
    "input: barack obama is an American politician<br>\n",
    "outpu: BARACK obama is an American politician"
   ]
  },
  {
   "cell_type": "code",
   "execution_count": null,
   "id": "52723f7c",
   "metadata": {},
   "outputs": [],
   "source": []
  },
  {
   "attachments": {
    "table.png": {
     "image/png": "[encoded data removed]"
    }
   },
   "cell_type": "markdown",
   "id": "27565873",
   "metadata": {},
   "source": [
    "### Summary of list operations\n",
    "![table.png](attachment:table.png)"
   ]
  },
  {
   "cell_type": "markdown",
   "id": "80e6cd9f",
   "metadata": {},
   "source": [
    "### Nesting Lists\n",
    "A great feature of of Python data structures is that they support *nesting*. This means we can have data structures within data structures. For example: A list inside a list.\n"
   ]
  },
  {
   "cell_type": "code",
   "execution_count": 50,
   "id": "684c2b06",
   "metadata": {},
   "outputs": [],
   "source": [
    "# Let's make three lists\n",
    "lst_1=[1,2,3]\n",
    "lst_2=[4,5,6]\n",
    "lst_3=[7,8,9]\n",
    "\n",
    "# Make a list of lists to form a matrix\n",
    "matrix = [lst_1,lst_2,lst_3]"
   ]
  },
  {
   "cell_type": "code",
   "execution_count": 51,
   "id": "1210ce69",
   "metadata": {},
   "outputs": [
    {
     "data": {
      "text/plain": [
       "[[1, 2, 3], [4, 5, 6], [7, 8, 9]]"
      ]
     },
     "execution_count": 51,
     "metadata": {},
     "output_type": "execute_result"
    }
   ],
   "source": [
    "# Show\n",
    "matrix"
   ]
  },
  {
   "cell_type": "markdown",
   "id": "91dadd90",
   "metadata": {},
   "source": [
    "We can again use indexing to grab elements, but now there are two levels for the index. The items in the matrix object, and then the items inside that list!"
   ]
  },
  {
   "cell_type": "code",
   "execution_count": 52,
   "id": "cee5a908",
   "metadata": {},
   "outputs": [
    {
     "data": {
      "text/plain": [
       "[1, 2, 3]"
      ]
     },
     "execution_count": 52,
     "metadata": {},
     "output_type": "execute_result"
    }
   ],
   "source": [
    "# Grab first item in matrix object\n",
    "matrix[0]"
   ]
  },
  {
   "cell_type": "code",
   "execution_count": 53,
   "id": "b6ec4755",
   "metadata": {},
   "outputs": [
    {
     "data": {
      "text/plain": [
       "1"
      ]
     },
     "execution_count": 53,
     "metadata": {},
     "output_type": "execute_result"
    }
   ],
   "source": [
    "# Grab first item of the first item in the matrix object\n",
    "matrix[0][0]"
   ]
  },
  {
   "cell_type": "code",
   "execution_count": 54,
   "id": "57d25d65",
   "metadata": {},
   "outputs": [
    {
     "data": {
      "text/plain": [
       "[1, 2, 3]"
      ]
     },
     "execution_count": 54,
     "metadata": {},
     "output_type": "execute_result"
    }
   ],
   "source": [
    "matrix[:][0]"
   ]
  },
  {
   "cell_type": "markdown",
   "id": "4898a441",
   "metadata": {},
   "source": [
    "#### Strings as sequences of characters\n",
    "For the purposes of extracting characters and substrings, strings can be considered\n",
    "to be sequences of characters, which means that you can use index or slice notation:"
   ]
  },
  {
   "cell_type": "code",
   "execution_count": 55,
   "id": "5210d19c",
   "metadata": {},
   "outputs": [],
   "source": [
    "x = \"Hello\""
   ]
  },
  {
   "cell_type": "code",
   "execution_count": 56,
   "id": "bc6c4e1b",
   "metadata": {},
   "outputs": [
    {
     "data": {
      "text/plain": [
       "'H'"
      ]
     },
     "execution_count": 56,
     "metadata": {},
     "output_type": "execute_result"
    }
   ],
   "source": [
    "x[0]"
   ]
  },
  {
   "cell_type": "code",
   "execution_count": 57,
   "id": "f4ccf583",
   "metadata": {},
   "outputs": [
    {
     "data": {
      "text/plain": [
       "'o'"
      ]
     },
     "execution_count": 57,
     "metadata": {},
     "output_type": "execute_result"
    }
   ],
   "source": [
    "x[-1]"
   ]
  },
  {
   "cell_type": "code",
   "execution_count": 1,
   "id": "0a82fc71",
   "metadata": {},
   "outputs": [
    {
     "ename": "NameError",
     "evalue": "name 'x' is not defined",
     "output_type": "error",
     "traceback": [
      "\u001b[1;31m---------------------------------------------------------------------------\u001b[0m",
      "\u001b[1;31mNameError\u001b[0m                                 Traceback (most recent call last)",
      "Input \u001b[1;32mIn [1]\u001b[0m, in \u001b[0;36m<cell line: 1>\u001b[1;34m()\u001b[0m\n\u001b[1;32m----> 1\u001b[0m \u001b[43mx\u001b[49m[\u001b[38;5;241m2\u001b[39m:\u001b[38;5;241m5\u001b[39m]\n",
      "\u001b[1;31mNameError\u001b[0m: name 'x' is not defined"
     ]
    }
   ],
   "source": [
    "x[2:5]"
   ]
  },
  {
   "cell_type": "markdown",
   "id": "7108c67d",
   "metadata": {},
   "source": [
    "### Exercise\n",
    "create a string and print only the odd items in it<br>\n",
    "input: ababab<br>\n",
    "output: bbb\n"
   ]
  },
  {
   "cell_type": "code",
   "execution_count": null,
   "id": "274080c7",
   "metadata": {},
   "outputs": [],
   "source": []
  },
  {
   "cell_type": "code",
   "execution_count": null,
   "id": "53708f84",
   "metadata": {},
   "outputs": [],
   "source": []
  },
  {
   "cell_type": "markdown",
   "id": "6ecbb432",
   "metadata": {},
   "source": [
    "## Tuples\n",
    "*Tuples* are data structures that are very similar to lists, but they can’t be modified; they\n",
    "can only be created.<br><br>\n",
    "Creating a tuple is similar to creating a list: assign a sequence of values to a variable. A\n",
    "list is a sequence that’s enclosed by [ and ]; a tuple is a sequence that’s enclosed by (\n",
    "and ):"
   ]
  },
  {
   "cell_type": "code",
   "execution_count": 66,
   "id": "90736626",
   "metadata": {},
   "outputs": [],
   "source": [
    "x = (1, 2, 3, 4)"
   ]
  },
  {
   "cell_type": "markdown",
   "id": "a4e1af0b",
   "metadata": {},
   "source": [
    "After a tuple is created, using it is so much like using a list that it’s easy to forget\n",
    "that tuples and lists are different data types"
   ]
  },
  {
   "cell_type": "markdown",
   "id": "bb71dc7b",
   "metadata": {},
   "source": [
    "The main difference between tuples and lists is that tuples are **immutable**. An attempt\n",
    "to modify a tuple results in a confusing error message, which is Python’s way of saying\n",
    "that it doesn’t know how to set an item in a tuple:"
   ]
  },
  {
   "cell_type": "code",
   "execution_count": 67,
   "id": "fb2058d6",
   "metadata": {},
   "outputs": [
    {
     "ename": "TypeError",
     "evalue": "'tuple' object does not support item assignment",
     "output_type": "error",
     "traceback": [
      "\u001b[1;31m---------------------------------------------------------------------------\u001b[0m",
      "\u001b[1;31mTypeError\u001b[0m                                 Traceback (most recent call last)",
      "\u001b[1;32m<ipython-input-67-8da6362b2e69>\u001b[0m in \u001b[0;36m<module>\u001b[1;34m\u001b[0m\n\u001b[1;32m----> 1\u001b[1;33m \u001b[0mx\u001b[0m\u001b[1;33m[\u001b[0m\u001b[1;36m2\u001b[0m\u001b[1;33m]\u001b[0m \u001b[1;33m=\u001b[0m \u001b[1;36m5\u001b[0m\u001b[1;33m\u001b[0m\u001b[1;33m\u001b[0m\u001b[0m\n\u001b[0m",
      "\u001b[1;31mTypeError\u001b[0m: 'tuple' object does not support item assignment"
     ]
    }
   ],
   "source": [
    "x[2] = 5"
   ]
  },
  {
   "cell_type": "markdown",
   "id": "745d96c6",
   "metadata": {},
   "source": [
    "#### Packing and unpacking tuples\n",
    "As a convenience, Python permits tuples to appear on the left side of an assignment\n",
    "operator, in which case variables in the tuple receive the corresponding values from\n",
    "the tuple on the right side of the assignment operator."
   ]
  },
  {
   "cell_type": "code",
   "execution_count": 68,
   "id": "1d83d03c",
   "metadata": {},
   "outputs": [
    {
     "name": "stdout",
     "output_type": "stream",
     "text": [
      "1\n"
     ]
    }
   ],
   "source": [
    "(one, two, three, four) = (1, 2, 3, 4)\n",
    "print(one)"
   ]
  },
  {
   "cell_type": "markdown",
   "id": "cfc696b5",
   "metadata": {},
   "source": [
    "This example can be written even more simply, because Python recognizes tuples in\n",
    "an assignment context even without the enclosing parentheses. The values on the\n",
    "right side are packed into a tuple and then unpacked into the variables on the left\n",
    "side"
   ]
  },
  {
   "cell_type": "code",
   "execution_count": null,
   "id": "8dddfe01",
   "metadata": {},
   "outputs": [],
   "source": [
    "one, two, three, four = 1, 2, 3, 4"
   ]
  },
  {
   "cell_type": "markdown",
   "id": "34864255",
   "metadata": {},
   "source": [
    "**exercise:** swap values between two variables in one line of code."
   ]
  },
  {
   "cell_type": "code",
   "execution_count": null,
   "id": "4cdc2354",
   "metadata": {},
   "outputs": [],
   "source": []
  },
  {
   "cell_type": "markdown",
   "id": "3280c366",
   "metadata": {},
   "source": [
    "#### Converting between lists and tuples\n",
    "Tuples can be easily converted to lists with the `list` function, which takes any\n",
    "sequence as an argument and produces a new list with the same elements as the original\n",
    "sequence. Similarly, lists can be converted to tuples with the `tuple` function,\n",
    "which does the same thing but produces a new tuple instead of a new list"
   ]
  },
  {
   "cell_type": "code",
   "execution_count": 69,
   "id": "1a735a71",
   "metadata": {},
   "outputs": [
    {
     "data": {
      "text/plain": [
       "[1, 2, 3, 4]"
      ]
     },
     "execution_count": 69,
     "metadata": {},
     "output_type": "execute_result"
    }
   ],
   "source": [
    "list((1, 2, 3, 4))"
   ]
  },
  {
   "cell_type": "code",
   "execution_count": 73,
   "id": "0e5e9f69",
   "metadata": {},
   "outputs": [
    {
     "data": {
      "text/plain": [
       "(1, 2, 3, 4)"
      ]
     },
     "execution_count": 73,
     "metadata": {},
     "output_type": "execute_result"
    }
   ],
   "source": [
    "tuple([1, 2, 3, 4])\n"
   ]
  },
  {
   "cell_type": "markdown",
   "id": "78065342",
   "metadata": {},
   "source": [
    "**exercise:** If you had a tuple x = (3, 1, 4, 2), how might you end up with x sorted?"
   ]
  },
  {
   "cell_type": "code",
   "execution_count": null,
   "id": "185edcd2",
   "metadata": {},
   "outputs": [],
   "source": []
  },
  {
   "cell_type": "markdown",
   "id": "10e06d60",
   "metadata": {},
   "source": [
    "## Sets\n",
    "\n",
    "Sets are an unordered collection of *unique* elements. We can construct them by using the `{}` curly brackets."
   ]
  },
  {
   "cell_type": "code",
   "execution_count": 20,
   "id": "ff861e83",
   "metadata": {},
   "outputs": [],
   "source": [
    "x = {1, 2, 3}"
   ]
  },
  {
   "cell_type": "code",
   "execution_count": 22,
   "id": "b6933388",
   "metadata": {},
   "outputs": [
    {
     "data": {
      "text/plain": [
       "{1, 2, 3}"
      ]
     },
     "execution_count": 22,
     "metadata": {},
     "output_type": "execute_result"
    }
   ],
   "source": [
    "x"
   ]
  },
  {
   "cell_type": "markdown",
   "id": "d443e0b3",
   "metadata": {},
   "source": [
    "or by using `set()` function"
   ]
  },
  {
   "cell_type": "code",
   "execution_count": 28,
   "id": "ec3780ef",
   "metadata": {},
   "outputs": [],
   "source": [
    "x = set([1, 2, 3, 1, 3, 5])"
   ]
  },
  {
   "cell_type": "code",
   "execution_count": 29,
   "id": "0728f816",
   "metadata": {},
   "outputs": [
    {
     "data": {
      "text/plain": [
       "{1, 2, 3, 5}"
      ]
     },
     "execution_count": 29,
     "metadata": {},
     "output_type": "execute_result"
    }
   ],
   "source": [
    "x"
   ]
  },
  {
   "cell_type": "code",
   "execution_count": 30,
   "id": "df8f8e82",
   "metadata": {},
   "outputs": [
    {
     "data": {
      "text/plain": [
       "{1, 2, 3, 5, 6}"
      ]
     },
     "execution_count": 30,
     "metadata": {},
     "output_type": "execute_result"
    }
   ],
   "source": [
    "x.add(6)\n",
    "x"
   ]
  },
  {
   "cell_type": "code",
   "execution_count": 31,
   "id": "1b92cfab",
   "metadata": {},
   "outputs": [
    {
     "data": {
      "text/plain": [
       "{1, 2, 3, 6}"
      ]
     },
     "execution_count": 31,
     "metadata": {},
     "output_type": "execute_result"
    }
   ],
   "source": [
    "x.remove(5)\n",
    "x"
   ]
  },
  {
   "cell_type": "markdown",
   "id": "fc66a4d4",
   "metadata": {},
   "source": [
    "Operations on the set"
   ]
  },
  {
   "cell_type": "code",
   "execution_count": 37,
   "id": "d03e98fc",
   "metadata": {},
   "outputs": [],
   "source": [
    "x = set([1, 2, 3, 5])\n",
    "y = set([1, 7, 8, 9])"
   ]
  },
  {
   "cell_type": "code",
   "execution_count": 38,
   "id": "e3380ce1",
   "metadata": {
    "scrolled": true
   },
   "outputs": [
    {
     "data": {
      "text/plain": [
       "{1, 2, 3, 5, 7, 8, 9}"
      ]
     },
     "execution_count": 38,
     "metadata": {},
     "output_type": "execute_result"
    }
   ],
   "source": [
    "#to get the union, or combination, of two sets\n",
    "x | y"
   ]
  },
  {
   "cell_type": "code",
   "execution_count": 39,
   "id": "c57b3e90",
   "metadata": {},
   "outputs": [
    {
     "data": {
      "text/plain": [
       "{1}"
      ]
     },
     "execution_count": 39,
     "metadata": {},
     "output_type": "execute_result"
    }
   ],
   "source": [
    "# to get their intersection\n",
    "x & y"
   ]
  },
  {
   "cell_type": "code",
   "execution_count": 42,
   "id": "16b62dbf",
   "metadata": {},
   "outputs": [
    {
     "data": {
      "text/plain": [
       "{2, 3, 5, 7, 8, 9}"
      ]
     },
     "execution_count": 42,
     "metadata": {},
     "output_type": "execute_result"
    }
   ],
   "source": [
    "#to find their symmetric differencethat is,\n",
    "#elements that are in one set or the other but not both.\n",
    "x ^ y"
   ]
  },
  {
   "cell_type": "markdown",
   "id": "617566a4",
   "metadata": {},
   "source": [
    "**Question:** If you are constructing a set from the following list, how\n",
    "many elements would the set have?: `[1, 2, 5, 1, 0, 2, 3, 1, 1]`"
   ]
  },
  {
   "cell_type": "code",
   "execution_count": null,
   "id": "d18f19d4",
   "metadata": {},
   "outputs": [],
   "source": []
  }
 ],
 "metadata": {
  "kernelspec": {
   "display_name": "Python 3 (ipykernel)",
   "language": "python",
   "name": "python3"
  },
  "language_info": {
   "codemirror_mode": {
    "name": "ipython",
    "version": 3
   },
   "file_extension": ".py",
   "mimetype": "text/x-python",
   "name": "python",
   "nbconvert_exporter": "python",
   "pygments_lexer": "ipython3",
   "version": "3.7.9"
  }
 },
 "nbformat": 4,
 "nbformat_minor": 5
}
