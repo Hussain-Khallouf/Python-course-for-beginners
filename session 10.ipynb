{
 "cells": [
  {
   "cell_type": "markdown",
   "id": "fcb3b3ac",
   "metadata": {},
   "source": [
    "# Welcome to session10"
   ]
  },
  {
   "cell_type": "markdown",
   "id": "9362b699",
   "metadata": {},
   "source": [
    "## Dictionary\n",
    "We've been learning about *sequences* in Python but now we're going to switch gears and learn about *mappings* in Python. If you're familiar with other languages you can think of these Dictionaries as hash tables or maps. \n",
    "\n",
    "So what are mappings? Mappings are a collection of objects that are stored by a *key*, unlike a sequence that stored objects by their relative position. This is an important distinction, since mappings won't retain order since they have objects defined by a key.\n",
    "\n",
    "A Python dictionary consists of a key and then an associated value. That value can be almost any Python object.\n"
   ]
  },
  {
   "cell_type": "markdown",
   "id": "9b669051",
   "metadata": {},
   "source": [
    "### Constructing a Dictionary\n",
    "Creating a dictionary is as simple as placing items inside curly braces {} separated by commas.\n",
    "\n",
    "An item has a key and a corresponding value that is expressed as a pair (key: value).\n",
    "\n",
    "While the values can be of any data type and can repeat, keys must be of immutable type (string, number or tuple with immutable elements) and must be unique.\n",
    "\n"
   ]
  },
  {
   "cell_type": "code",
   "execution_count": 1,
   "id": "a8d50710",
   "metadata": {},
   "outputs": [],
   "source": [
    "# empty dictionary\n",
    "my_dict = {}\n",
    "\n",
    "# dictionary with integer keys\n",
    "my_dict = {1: 'apple',\n",
    "           2: 'ball'}\n",
    "\n",
    "# dictionary with mixed keys\n",
    "my_dict = {'name': 'John', 'phone':965861245}\n"
   ]
  },
  {
   "cell_type": "markdown",
   "id": "c4da69f7",
   "metadata": {},
   "source": [
    "### Accessing Elements from Dictionary\n",
    "While indexing is used with other data types to access values, a dictionary uses `keys`. Keys can be used either inside square brackets `[]` or with the `get()` method.\n",
    "\n",
    "If we use the square brackets `[]`, `KeyError` is raised in case a key is not found in the dictionary. On the other hand, the `get()` method returns `None` if the key is not found."
   ]
  },
  {
   "cell_type": "code",
   "execution_count": 2,
   "id": "57f85c71",
   "metadata": {},
   "outputs": [],
   "source": [
    "my_dict = {'name': 'Jack', 'age': 26}"
   ]
  },
  {
   "cell_type": "code",
   "execution_count": 3,
   "id": "9f60332b",
   "metadata": {},
   "outputs": [
    {
     "name": "stdout",
     "output_type": "stream",
     "text": [
      "Jack\n"
     ]
    }
   ],
   "source": [
    "print(my_dict['name'])"
   ]
  },
  {
   "cell_type": "code",
   "execution_count": 4,
   "id": "45f6b3fe",
   "metadata": {},
   "outputs": [
    {
     "name": "stdout",
     "output_type": "stream",
     "text": [
      "26\n"
     ]
    }
   ],
   "source": [
    "print(my_dict.get('age'))\n"
   ]
  },
  {
   "cell_type": "code",
   "execution_count": 5,
   "id": "b2d566eb",
   "metadata": {},
   "outputs": [
    {
     "name": "stdout",
     "output_type": "stream",
     "text": [
      "None\n"
     ]
    }
   ],
   "source": [
    "print(my_dict.get('address'))"
   ]
  },
  {
   "cell_type": "code",
   "execution_count": 6,
   "id": "749b780b",
   "metadata": {},
   "outputs": [
    {
     "ename": "KeyError",
     "evalue": "'address'",
     "output_type": "error",
     "traceback": [
      "\u001b[1;31m---------------------------------------------------------------------------\u001b[0m",
      "\u001b[1;31mKeyError\u001b[0m                                  Traceback (most recent call last)",
      "Input \u001b[1;32mIn [6]\u001b[0m, in \u001b[0;36m<cell line: 1>\u001b[1;34m()\u001b[0m\n\u001b[1;32m----> 1\u001b[0m \u001b[38;5;28mprint\u001b[39m(\u001b[43mmy_dict\u001b[49m\u001b[43m[\u001b[49m\u001b[38;5;124;43m'\u001b[39;49m\u001b[38;5;124;43maddress\u001b[39;49m\u001b[38;5;124;43m'\u001b[39;49m\u001b[43m]\u001b[49m)\n",
      "\u001b[1;31mKeyError\u001b[0m: 'address'"
     ]
    }
   ],
   "source": [
    "print(my_dict['address'])"
   ]
  },
  {
   "cell_type": "markdown",
   "id": "82e7bb7e",
   "metadata": {},
   "source": [
    "### Changing and Adding Dictionary elements\n",
    "Dictionaries are mutable. We can add new items or change the value of existing items using an assignment operator.\n",
    "\n",
    "If the key is already present, then the existing value gets updated. In case the key is not present, a new (key: value) pair is added to the dictionary."
   ]
  },
  {
   "cell_type": "code",
   "execution_count": 10,
   "id": "d9d5faf9",
   "metadata": {},
   "outputs": [
    {
     "name": "stdout",
     "output_type": "stream",
     "text": [
      "{'name': 'Jack', 'age': 26, 'address': 'Dowferthrtntown'}\n",
      "{'name': 'Jack', 'age': 26, 'address': 'Dowferthrtntown', 'address2': 'Dowferthrtntown'}\n"
     ]
    }
   ],
   "source": [
    "print(my_dict)\n",
    "\n",
    "my_dict['address2'] = 'Dowferthrtntown'\n",
    "\n",
    "print(my_dict)"
   ]
  },
  {
   "cell_type": "markdown",
   "id": "8244d7ca",
   "metadata": {},
   "source": [
    "## A few Dictionary Methods\n",
    "\n",
    "There are a few methods we can call on a dictionary. Let's get a quick introduction to a few of them:"
   ]
  },
  {
   "cell_type": "code",
   "execution_count": 22,
   "id": "8e1bba40",
   "metadata": {},
   "outputs": [],
   "source": [
    "\n",
    "d = {'key1':1,'key2':2,'key3':3}"
   ]
  },
  {
   "cell_type": "code",
   "execution_count": 23,
   "id": "4ce1b49f",
   "metadata": {},
   "outputs": [
    {
     "data": {
      "text/plain": [
       "dict_keys(['key1', 'key2', 'key3'])"
      ]
     },
     "execution_count": 23,
     "metadata": {},
     "output_type": "execute_result"
    }
   ],
   "source": [
    "# Method to return a list of all keys \n",
    "d.keys()"
   ]
  },
  {
   "cell_type": "code",
   "execution_count": 24,
   "id": "1f8e3334",
   "metadata": {},
   "outputs": [
    {
     "data": {
      "text/plain": [
       "dict_values([1, 2, 3])"
      ]
     },
     "execution_count": 24,
     "metadata": {},
     "output_type": "execute_result"
    }
   ],
   "source": [
    "# Method to grab all values\n",
    "d.values()"
   ]
  },
  {
   "cell_type": "code",
   "execution_count": 25,
   "id": "a3429c84",
   "metadata": {},
   "outputs": [
    {
     "data": {
      "text/plain": [
       "dict_items([('key1', 1), ('key2', 2), ('key3', 3)])"
      ]
     },
     "execution_count": 25,
     "metadata": {},
     "output_type": "execute_result"
    }
   ],
   "source": [
    "# Method to return tuples of all items  (we'll learn about tuples soon)\n",
    "d.items()"
   ]
  },
  {
   "cell_type": "markdown",
   "id": "6197a6fc",
   "metadata": {},
   "source": [
    "# Quick Exercises\n",
    "we have 3 students each one is taking 3 differnet class, so each student have 3 marks\n",
    "find the best data structure to implemnt this problem\n",
    "after that you have to find each student average and store it under the student name"
   ]
  },
  {
   "cell_type": "code",
   "execution_count": null,
   "id": "1afc3732",
   "metadata": {},
   "outputs": [],
   "source": [
    "std1 = 'Jhon'      # marks of jhon: 30 , 46 , 80\n",
    "std2 = 'Marla'     # marks of Marla: 50 , 23 , 76\n",
    "std3 = 'Bianca'    # marks of Bianca: 40 , 90 , 77\n"
   ]
  },
  {
   "cell_type": "code",
   "execution_count": 11,
   "id": "c59f20ea",
   "metadata": {},
   "outputs": [
    {
     "data": {
      "text/plain": [
       "6"
      ]
     },
     "execution_count": 11,
     "metadata": {},
     "output_type": "execute_result"
    }
   ],
   "source": [
    "sum([1,2,3])"
   ]
  },
  {
   "cell_type": "markdown",
   "id": "8ea98a4f",
   "metadata": {},
   "source": [
    "## Python packages\n",
    "A **python package** is a collection of modules. Modules that are related to each other are mainly put in the same package. When a module from an external package is required in a program, that package can be imported and its modules can be put to use.\n",
    "\n",
    "**note:** Any Python file, whose name is the module’s name property without the .py extension, is a module."
   ]
  },
  {
   "cell_type": "markdown",
   "id": "fc0f3ca3",
   "metadata": {},
   "source": [
    "For example, let’s take the `datetime` module, which has a class called `date`."
   ]
  },
  {
   "cell_type": "code",
   "execution_count": 8,
   "id": "6b604000",
   "metadata": {},
   "outputs": [
    {
     "name": "stdout",
     "output_type": "stream",
     "text": [
      "2022-04-10\n"
     ]
    }
   ],
   "source": [
    "from datetime import date\n",
    "print(date.today())"
   ]
  },
  {
   "cell_type": "markdown",
   "id": "9aa2e08a",
   "metadata": {},
   "source": [
    "`math module` This module gives developers access to the mathematical functions."
   ]
  },
  {
   "cell_type": "code",
   "execution_count": 9,
   "id": "8b7f1c03",
   "metadata": {},
   "outputs": [
    {
     "data": {
      "text/plain": [
       "16.0"
      ]
     },
     "execution_count": 9,
     "metadata": {},
     "output_type": "execute_result"
    }
   ],
   "source": [
    "import math\n",
    "\n",
    "math.pow(2, 4)"
   ]
  },
  {
   "cell_type": "code",
   "execution_count": 10,
   "id": "6cf49dbd",
   "metadata": {},
   "outputs": [
    {
     "data": {
      "text/plain": [
       "4.0"
      ]
     },
     "execution_count": 10,
     "metadata": {},
     "output_type": "execute_result"
    }
   ],
   "source": [
    "math.sqrt(16)"
   ]
  },
  {
   "cell_type": "markdown",
   "id": "b8b92555",
   "metadata": {},
   "source": [
    "### What is PIP?\n",
    "PIP is a package manager for Python packages, or modules if you like.\n",
    "\n",
    "**Check if PIP is Installed**\n",
    "Navigate your command line to the location of Python's script directory, and type the following"
   ]
  },
  {
   "cell_type": "markdown",
   "id": "cbd69ee8",
   "metadata": {},
   "source": [
    "`C:\\Users\\Your Name\\AppData\\Local\\Programs\\Python\\Python36-32\\Scripts>pip --version`"
   ]
  },
  {
   "cell_type": "markdown",
   "id": "35b9b380",
   "metadata": {},
   "source": [
    "**Download a Package**\n",
    "Downloading a package is very easy.\n",
    "\n",
    "Open the command line interface and tell PIP to download the package you want.\n",
    "\n",
    "Navigate your command line to the location of Python's script directory, and type the following:\n",
    "\n",
    "`pip install package_name`\n",
    "\n",
    "Let's go to install `termcolor` package\n",
    "<br><a href=' https://pypi.org/project/termcolor/'>termcolor page</a>"
   ]
  },
  {
   "cell_type": "code",
   "execution_count": null,
   "id": "5f50d463",
   "metadata": {},
   "outputs": [],
   "source": []
  }
 ],
 "metadata": {
  "kernelspec": {
   "display_name": "Python 3 (ipykernel)",
   "language": "python",
   "name": "python3"
  },
  "language_info": {
   "codemirror_mode": {
    "name": "ipython",
    "version": 3
   },
   "file_extension": ".py",
   "mimetype": "text/x-python",
   "name": "python",
   "nbconvert_exporter": "python",
   "pygments_lexer": "ipython3",
   "version": "3.10.0"
  }
 },
 "nbformat": 4,
 "nbformat_minor": 5
}
