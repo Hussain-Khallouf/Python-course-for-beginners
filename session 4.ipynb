{
 "cells": [
  {
   "cell_type": "markdown",
   "id": "19667713",
   "metadata": {},
   "source": [
    "# Welome to session 4"
   ]
  },
  {
   "cell_type": "markdown",
   "id": "b1c518d4",
   "metadata": {},
   "source": [
    "# Excercises"
   ]
  },
  {
   "cell_type": "markdown",
   "id": "68066fcb",
   "metadata": {},
   "source": [
    "____\n",
    "**What is the value of the `var` after the `for` loop completes its execution**"
   ]
  },
  {
   "cell_type": "code",
   "execution_count": 1,
   "id": "96a1f5e8",
   "metadata": {},
   "outputs": [
    {
     "name": "stdout",
     "output_type": "stream",
     "text": [
      "20\n"
     ]
    }
   ],
   "source": [
    "var = 10\n",
    "for i in range(10):\n",
    "    for j in range(2, 10, 1):\n",
    "        if var % 2 == 0:\n",
    "            continue\n",
    "            var += 1\n",
    "    var+=1\n",
    "\n",
    "print(var)"
   ]
  },
  {
   "cell_type": "markdown",
   "id": "78c71e93",
   "metadata": {},
   "source": [
    "___\n",
    "**What is the output of this code**"
   ]
  },
  {
   "cell_type": "code",
   "execution_count": 5,
   "id": "da26ee52",
   "metadata": {},
   "outputs": [
    {
     "name": "stdout",
     "output_type": "stream",
     "text": [
      "J\n",
      "h\n",
      "o\n",
      "n\n"
     ]
    }
   ],
   "source": [
    "for l in 'Jhon':\n",
    "   if l == 'o':\n",
    "    pass\n",
    "    \n",
    "   print(l)"
   ]
  },
  {
   "cell_type": "markdown",
   "id": "e2bd4ece",
   "metadata": {},
   "source": [
    "___\n",
    "**What is the output of this code**"
   ]
  },
  {
   "cell_type": "code",
   "execution_count": 6,
   "id": "0316fb14",
   "metadata": {},
   "outputs": [
    {
     "name": "stdout",
     "output_type": "stream",
     "text": [
      "3\n"
     ]
    }
   ],
   "source": [
    "x = 0\n",
    "a = 5\n",
    "b = 5\n",
    "if a > 0:\n",
    "    if b < 0: \n",
    "        x = x + 5 \n",
    "    elif a > 5:\n",
    "        x = x + 4\n",
    "    else:\n",
    "        x = x + 3\n",
    "else:\n",
    "    x = x + 2\n",
    "print(x)"
   ]
  },
  {
   "cell_type": "markdown",
   "id": "54111ca6",
   "metadata": {},
   "source": [
    "___\n",
    "**Remove the `None` value from the list**"
   ]
  },
  {
   "cell_type": "code",
   "execution_count": 7,
   "id": "6cea3ce1",
   "metadata": {},
   "outputs": [
    {
     "name": "stdout",
     "output_type": "stream",
     "text": [
      "[['Hussain', 23], ['Ku', 27], ['Ahmad', 'Ad']]\n"
     ]
    }
   ],
   "source": [
    "employees = [[\"Hussain\", None, 23],\n",
    "             [None, \"Ku\", 27],\n",
    "             [\"Ahmad\", \"Ad\", None]]\n",
    "for employee in employees:\n",
    "    if None in employee:\n",
    "        employee.remove(None)\n",
    "print(employees)"
   ]
  },
  {
   "cell_type": "markdown",
   "id": "bd4b0df2",
   "metadata": {},
   "source": [
    "<details>\n",
    "<summary>> The solution</summary>\n",
    "```\n",
    "for elmpoyee in elmpoyees:\n",
    "    if None in elmpoyee:\n",
    "        elmpoyee.remove(None)\n",
    "```\n",
    "</details>"
   ]
  },
  {
   "cell_type": "markdown",
   "id": "9a8a33d7",
   "metadata": {},
   "source": [
    "___\n",
    "**Count the occurrence of each element from a list and put each element with his count in a tuple inside `result_list`**\n",
    "*hint:* use `list.count(element)` method"
   ]
  },
  {
   "cell_type": "code",
   "execution_count": 7,
   "id": "3dd55f0f",
   "metadata": {},
   "outputs": [],
   "source": [
    "sample_list = [11, 45, 8, 11, 23, 45, 23, 8,45, 89]\n",
    "result_list = []"
   ]
  },
  {
   "cell_type": "markdown",
   "id": "fa1d51c7",
   "metadata": {},
   "source": [
    "<details>\n",
    "<summary>> The solution</summary>\n",
    "```python\n",
    "sample_list = [11, 45, 8, 11, 23, 45, 23, 8,45, 89]\n",
    "result_list =[]\n",
    "sample_set = set(sample_list)\n",
    "for elem in sample_set:\n",
    "    c = sample_list.count(elem)\n",
    "    result_list.append((elem,c))\n",
    "print(result_list)\n",
    "```\n",
    "</details>"
   ]
  },
  {
   "cell_type": "markdown",
   "id": "0d26f435",
   "metadata": {},
   "source": [
    "___\n",
    "**Write a program to display only those numbers from a list that satisfy the following conditions**\n",
    "\n",
    "* The number must be divisible by five\n",
    "* If the number is greater than 150, then skip it and move to the next number\n",
    "* If the number is greater than 500, then stop the loop"
   ]
  },
  {
   "cell_type": "code",
   "execution_count": 8,
   "id": "2cd3b908",
   "metadata": {},
   "outputs": [],
   "source": [
    "numbers = [12, 75, 150, 180, 145, 525, 50]"
   ]
  },
  {
   "cell_type": "markdown",
   "id": "4fbf7051",
   "metadata": {},
   "source": [
    "<details>\n",
    "<summary>> The solution</summary>\n",
    "``` python\n",
    "numbers = [12, 75, 150, 180, 145, 525, 50]\n",
    "# iterate each item of a list\n",
    "for item in numbers:\n",
    "    if item > 500:\n",
    "        break\n",
    "    elif item > 150:\n",
    "        continue\n",
    "    # check if number is divisible by 5\n",
    "    elif item % 5 == 0:\n",
    "        print(item)\n",
    "```\n",
    "</details>"
   ]
  },
  {
   "cell_type": "markdown",
   "id": "7b0a856d",
   "metadata": {},
   "source": [
    "____\n",
    "**Display Fibonacci series up to given number from user terms**\n",
    "The Fibonacci Sequence is a series of numbers. The next number is found by adding up the two numbers before it. The first two numbers are 0 and 1."
   ]
  },
  {
   "cell_type": "code",
   "execution_count": 11,
   "id": "b27dab2e",
   "metadata": {},
   "outputs": [
    {
     "name": "stdout",
     "output_type": "stream",
     "text": [
      "enter a number10\n",
      "89\n"
     ]
    }
   ],
   "source": [
    "num1 = 1\n",
    "num2 = 1\n",
    "number = int(input('enter a number'))\n",
    "fib = 0\n",
    "for i in range(2,number+1):\n",
    "    fib = num1+num2\n",
    "    num1 = num2\n",
    "    num2 = fib\n",
    "print(fib)\n",
    "    \n",
    "    \n",
    "    \n",
    "    "
   ]
  },
  {
   "cell_type": "markdown",
   "id": "6623e6e9",
   "metadata": {},
   "source": [
    "<details>\n",
    "<summary>> The solution</summary>\n",
    "    ```\n",
    "# first two numbers\n",
    "num1, num2 = 0, 1\n",
    "\n",
    "print(\"Fibonacci sequence:\")\n",
    "# run loop 10 times\n",
    "for i in range(10):\n",
    "    # print next number of a series\n",
    "    print(num1, end=\"  \")\n",
    "    # add last two numbers to get next number\n",
    "    res = num1 + num2\n",
    "\n",
    "    # update values\n",
    "    num1 = num2\n",
    "    num2 = res\n",
    "    ```\n",
    "</details>\n"
   ]
  },
  {
   "cell_type": "markdown",
   "id": "37bdf2c7",
   "metadata": {},
   "source": [
    "___\n",
    "**Code Latin is a language game, where you move the first letter of the word to the end and add \"ay.\" So \"Python\" becomes \"ythonpay.\" To write a Code Latin translator in Python, here are the steps we'll need to take:**\n",
    "\n",
    "* Ask the user to input a word in English.\n",
    "* Make sure the user entered a valid word (word's length is more then 1).\n",
    "* Convert the word from English to Code Latin.\n",
    "* Display the translation result."
   ]
  },
  {
   "cell_type": "code",
   "execution_count": 13,
   "id": "d04a52ca",
   "metadata": {},
   "outputs": [
    {
     "name": "stdout",
     "output_type": "stream",
     "text": [
      "Enter a word:python\n",
      "ythonpay\n"
     ]
    }
   ],
   "source": [
    "pyg = 'ay'\n",
    "word = input('Enter a word:')\n",
    "\n",
    "if len(original) > 0:\n",
    "    first=word[0]\n",
    "    new_word= word[1:len(word)] +first +pyg\n",
    "    print(new_word)\n",
    "else:\n",
    "    print( 'empty')"
   ]
  },
  {
   "cell_type": "markdown",
   "id": "0cdabc49",
   "metadata": {},
   "source": [
    "<details>\n",
    "<summary>> The solution</summary>\n",
    "    ```\n",
    "pyg = 'ay'\n",
    "original = input('Enter a word:')\n",
    "\n",
    "if len(original) > 0 and original.isalpha():\n",
    "    word= original.lower()\n",
    "    first=word[0]\n",
    "    new_word= word[1:len(word)] +first +pyg\n",
    "    print(new_word)\n",
    "else:\n",
    "    print( 'empty')\n",
    "    ```\n",
    "</details>"
   ]
  },
  {
   "cell_type": "code",
   "execution_count": null,
   "id": "6503f388",
   "metadata": {},
   "outputs": [],
   "source": []
  },
  {
   "cell_type": "code",
   "execution_count": null,
   "id": "b41400a7",
   "metadata": {},
   "outputs": [],
   "source": []
  }
 ],
 "metadata": {
  "kernelspec": {
   "display_name": "Python 3 (ipykernel)",
   "language": "python",
   "name": "python3"
  },
  "language_info": {
   "codemirror_mode": {
    "name": "ipython",
    "version": 3
   },
   "file_extension": ".py",
   "mimetype": "text/x-python",
   "name": "python",
   "nbconvert_exporter": "python",
   "pygments_lexer": "ipython3",
   "version": "3.7.9"
  }
 },
 "nbformat": 4,
 "nbformat_minor": 5
}
