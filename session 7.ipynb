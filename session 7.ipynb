{
 "cells": [
  {
   "cell_type": "markdown",
   "id": "11f7416b",
   "metadata": {},
   "source": [
    "# Welcome to session 7"
   ]
  },
  {
   "cell_type": "markdown",
   "id": "e02b5f52",
   "metadata": {},
   "source": [
    "## Object Orianted Programing (OOP)"
   ]
  },
  {
   "cell_type": "markdown",
   "id": "d915e324",
   "metadata": {},
   "source": [
    "Object-oriented programming (OOP) is a computer programming model that organizes software design around data, or objects, rather than functions and logic. An object can be defined as a data field that has unique attributes and behavior.\n",
    "\n",
    "For this lesson we will construct our knowledge of OOP in Python by building on the following topics:\n",
    "\n",
    "* Objects\n",
    "* Using the *class* keyword\n",
    "* Creating class attributes\n",
    "* Creating methods in a class\n",
    "\n",
    "Lets start the lesson by remembering about the Basic Python Objects. For example:"
   ]
  },
  {
   "cell_type": "code",
   "execution_count": 1,
   "id": "8e77eefa",
   "metadata": {},
   "outputs": [],
   "source": [
    "lst = [1,2,3]"
   ]
  },
  {
   "cell_type": "markdown",
   "id": "4e6e9c12",
   "metadata": {},
   "source": [
    "Remember how we could call methods on a list?"
   ]
  },
  {
   "cell_type": "code",
   "execution_count": 2,
   "id": "439aa94f",
   "metadata": {},
   "outputs": [
    {
     "data": {
      "text/plain": [
       "1"
      ]
     },
     "execution_count": 2,
     "metadata": {},
     "output_type": "execute_result"
    }
   ],
   "source": [
    "lst.count(2)"
   ]
  },
  {
   "cell_type": "markdown",
   "id": "879ee615",
   "metadata": {},
   "source": [
    "## Objects\n",
    "In Python, *everything is an object*. Remember we can use type() to check the type of object something is:"
   ]
  },
  {
   "cell_type": "code",
   "execution_count": 3,
   "id": "2e50bf3c",
   "metadata": {},
   "outputs": [
    {
     "name": "stdout",
     "output_type": "stream",
     "text": [
      "<class 'int'>\n",
      "<class 'list'>\n",
      "<class 'tuple'>\n",
      "<class 'dict'>\n"
     ]
    }
   ],
   "source": [
    "print(type(1))\n",
    "print(type([]))\n",
    "print(type(()))\n",
    "print(type({}))"
   ]
  },
  {
   "cell_type": "markdown",
   "id": "83c0254e",
   "metadata": {},
   "source": [
    "## class\n",
    "User defined objects are created using the <code>class</code> keyword. The class is a blueprint (catalogue) that defines the nature of a future object. From classes we can construct instances. An instance is a specific object created from a particular class. For example, above we created the object <code>lst</code> which was an instance of a list object. \n",
    "\n",
    "Let see how we can use <code>class</code>:"
   ]
  },
  {
   "cell_type": "code",
   "execution_count": 4,
   "id": "3205155f",
   "metadata": {},
   "outputs": [
    {
     "name": "stdout",
     "output_type": "stream",
     "text": [
      "<class '__main__.Sample'>\n"
     ]
    }
   ],
   "source": [
    "# Create a new object type called Sample\n",
    "class Sample:\n",
    "    pass\n",
    "\n",
    "# Instance of Sample\n",
    "x = Sample()\n",
    "\n",
    "print(type(x))"
   ]
  },
  {
   "cell_type": "markdown",
   "id": "1376f1f8",
   "metadata": {},
   "source": [
    "By convention we give classes a name that starts with a capital letter. Note how <code>x</code> is now the reference to our new instance of a Sample class. In other words, we **instantiate** the Sample class.\n",
    "\n",
    "Inside of the class we currently just have pass. But we can define class attributes and methods.\n",
    "\n",
    "An **attribute** is a characteristic of an object.\n",
    "A **method** is an operation we can perform with the object (a function inside a class).\n",
    "\n",
    "For example, we can create a class called Car. An attribute of a car may be its brand or its name, while a method of a car may be defined by a  .move() method which returns a position.\n",
    "\n",
    "Let's get a better understanding of attributes through an example.\n",
    "\n",
    "## Attributes\n",
    "The syntax for creating an attribute is:\n",
    "    \n",
    "    self.attribute = something\n",
    "    \n",
    "There is a special method called:\n",
    "\n",
    "    __init__()\n",
    "\n",
    "This method is used to initialize the attributes of an object. or we can say its the class constructor For example:"
   ]
  },
  {
   "cell_type": "code",
   "execution_count": 1,
   "id": "1ada4a1e",
   "metadata": {},
   "outputs": [],
   "source": [
    "class Car:\n",
    "    def __init__(self,brand):\n",
    "        self.brand = brand\n",
    "       \n",
    "    \n",
    "car1 = Car('BMW')\n",
    "car2 = Car('KIA')"
   ]
  },
  {
   "cell_type": "code",
   "execution_count": 3,
   "id": "f775170a",
   "metadata": {},
   "outputs": [
    {
     "data": {
      "text/plain": [
       "'KIA'"
      ]
     },
     "execution_count": 3,
     "metadata": {},
     "output_type": "execute_result"
    }
   ],
   "source": [
    "car2.brand"
   ]
  },
  {
   "cell_type": "markdown",
   "id": "163c0789",
   "metadata": {},
   "source": [
    "Lets break down what we have above.The special method \n",
    "\n",
    "    __init__() \n",
    "is called automatically right after the object has been created:\n",
    "\n",
    "    def __init__(self, brand):\n",
    "Each attribute in a class definition begins with a reference to the instance object. It is by convention named self. The breed is the argument. The value is passed during the class instantiation.\n",
    "\n",
    "     self.brand = brand"
   ]
  },
  {
   "cell_type": "markdown",
   "id": "c88d41c0",
   "metadata": {},
   "source": [
    "Now we have created two instances of the Car class. With two Brands, we can then access these attributes like this:"
   ]
  },
  {
   "cell_type": "code",
   "execution_count": 6,
   "id": "a1e3802e",
   "metadata": {},
   "outputs": [
    {
     "data": {
      "text/plain": [
       "'BMW'"
      ]
     },
     "execution_count": 6,
     "metadata": {},
     "output_type": "execute_result"
    }
   ],
   "source": [
    "car1.brand"
   ]
  },
  {
   "cell_type": "code",
   "execution_count": 7,
   "id": "8d52b820",
   "metadata": {},
   "outputs": [
    {
     "data": {
      "text/plain": [
       "'KIA'"
      ]
     },
     "execution_count": 7,
     "metadata": {},
     "output_type": "execute_result"
    }
   ],
   "source": [
    "car2.brand"
   ]
  },
  {
   "cell_type": "markdown",
   "id": "7fa66c40",
   "metadata": {},
   "source": [
    "Note how we don't have any parentheses after brand; this is because it is an attribute not a method and doesn't take any arguments.\n",
    "\n",
    "In Python there are also *class object attributes*. These Class Object Attributes are the same for any instance of the class. For example, we could create the attribute *species* for the Dog class. Dogs, regardless of their breed, name, or other attributes, will always be mammals.\n",
    "\n",
    "A **class object attributes** are like (but not same)**static** fields in other programming languages like c++ , java...\n",
    "We apply this logic in the following manner:"
   ]
  },
  {
   "cell_type": "code",
   "execution_count": 9,
   "id": "d9a31e1d",
   "metadata": {},
   "outputs": [],
   "source": [
    "class Car:\n",
    "\n",
    "    # Class Object Attribute\n",
    "    navigation = 'landover'\n",
    "    \n",
    "    def __init__(self,brand,name):\n",
    "        self.brand = brand\n",
    "        self.name = name"
   ]
  },
  {
   "cell_type": "code",
   "execution_count": 10,
   "id": "b6df92f1",
   "metadata": {},
   "outputs": [],
   "source": [
    "car = Car('KIA','Rio')"
   ]
  },
  {
   "cell_type": "code",
   "execution_count": 11,
   "id": "e6a55a4f",
   "metadata": {},
   "outputs": [
    {
     "data": {
      "text/plain": [
       "'Rio'"
      ]
     },
     "execution_count": 11,
     "metadata": {},
     "output_type": "execute_result"
    }
   ],
   "source": [
    "car.name"
   ]
  },
  {
   "cell_type": "markdown",
   "id": "40f7b496",
   "metadata": {},
   "source": [
    "Note that the Class Object Attribute is defined outside of any methods in the class. Also by convention, we place them first before the init."
   ]
  },
  {
   "cell_type": "code",
   "execution_count": 12,
   "id": "15123919",
   "metadata": {},
   "outputs": [
    {
     "data": {
      "text/plain": [
       "'landover'"
      ]
     },
     "execution_count": 12,
     "metadata": {},
     "output_type": "execute_result"
    }
   ],
   "source": [
    "car.navigation"
   ]
  },
  {
   "cell_type": "code",
   "execution_count": 13,
   "id": "4c21402b",
   "metadata": {},
   "outputs": [],
   "source": [
    "car2 = Car('BMW','X5')"
   ]
  },
  {
   "cell_type": "code",
   "execution_count": 14,
   "id": "109e79c9",
   "metadata": {},
   "outputs": [
    {
     "data": {
      "text/plain": [
       "'landover'"
      ]
     },
     "execution_count": 14,
     "metadata": {},
     "output_type": "execute_result"
    }
   ],
   "source": [
    "car2.navigation"
   ]
  },
  {
   "cell_type": "code",
   "execution_count": 16,
   "id": "2f601df8",
   "metadata": {},
   "outputs": [
    {
     "data": {
      "text/plain": [
       "'landover'"
      ]
     },
     "execution_count": 16,
     "metadata": {},
     "output_type": "execute_result"
    }
   ],
   "source": [
    "Car.navigation"
   ]
  },
  {
   "cell_type": "markdown",
   "id": "0014589e",
   "metadata": {},
   "source": [
    "## Methods\n",
    "\n",
    "Methods are functions defined inside the body of a class. They are used to perform operations with the attributes of our objects. Methods are a key concept of the OOP paradigm. They are essential to dividing responsibilities in programming, especially in large applications.\n",
    "\n",
    "You can basically think of methods as functions acting on an Object that take the Object itself into account through its *self* argument.\n",
    "\n",
    "Let's go through an example of creating a Circle class:"
   ]
  },
  {
   "cell_type": "code",
   "execution_count": 1,
   "id": "d2fb943e",
   "metadata": {},
   "outputs": [
    {
     "name": "stdout",
     "output_type": "stream",
     "text": [
      "Radius is:  1\n",
      "Area is:  3.14\n",
      "Circumference is:  6.28\n"
     ]
    }
   ],
   "source": [
    "class Circle:\n",
    "    pi = 3.14\n",
    "\n",
    "    # Circle gets instantiated with a radius (default is 1)\n",
    "    def __init__(self, radius=1):\n",
    "        self.radius = radius \n",
    "        self.area = radius **2 * Circle.pi\n",
    "\n",
    "    # Method for resetting Radius\n",
    "    def setRadius(self, new_radius):\n",
    "        self.radius = new_radius\n",
    "        self.area = new_radius * new_radius * self.pi\n",
    "\n",
    "    # Method for getting Circumference\n",
    "    def getCircumference(self):\n",
    "        return self.radius * self.pi * 2\n",
    "\n",
    "\n",
    "c = Circle()\n",
    "\n",
    "print('Radius is: ',c.radius)\n",
    "print('Area is: ',c.area)\n",
    "print('Circumference is: ',c.getCircumference())"
   ]
  },
  {
   "cell_type": "markdown",
   "id": "0170681a",
   "metadata": {},
   "source": [
    "In the \\__init__ method above, in order to calculate the area attribute, we had to call Circle.pi. This is because the object does not yet have its own .pi attribute, so we call the Class Object Attribute pi instead.<br>\n",
    "In the setRadius method, however, we'll be working with an existing Circle object that does have its own pi attribute. Here we can use either Circle.pi or self.pi.<br><br>\n",
    "Now let's change the radius and see how that affects our Circle object:"
   ]
  },
  {
   "cell_type": "code",
   "execution_count": 2,
   "id": "32e47107",
   "metadata": {},
   "outputs": [
    {
     "name": "stdout",
     "output_type": "stream",
     "text": [
      "Radius is:  2\n",
      "Area is:  12.56\n",
      "Circumference is:  12.56\n"
     ]
    }
   ],
   "source": [
    "c.setRadius(2)\n",
    "\n",
    "print('Radius is: ',c.radius)\n",
    "print('Area is: ',c.area)\n",
    "print('Circumference is: ',c.getCircumference())"
   ]
  },
  {
   "cell_type": "markdown",
   "id": "7c68b863",
   "metadata": {},
   "source": [
    "Great! Notice how we used self. notation to reference attributes of the class within the method calls. Review how the code above works and try creating your own method."
   ]
  }
 ],
 "metadata": {
  "kernelspec": {
   "display_name": "Python 3 (ipykernel)",
   "language": "python",
   "name": "python3"
  },
  "language_info": {
   "codemirror_mode": {
    "name": "ipython",
    "version": 3
   },
   "file_extension": ".py",
   "mimetype": "text/x-python",
   "name": "python",
   "nbconvert_exporter": "python",
   "pygments_lexer": "ipython3",
   "version": "3.10.0"
  }
 },
 "nbformat": 4,
 "nbformat_minor": 5
}
