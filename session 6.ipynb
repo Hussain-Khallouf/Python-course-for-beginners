{
 "cells": [
  {
   "cell_type": "markdown",
   "id": "dd33e26c",
   "metadata": {},
   "source": [
    "# Welcome to session 6"
   ]
  },
  {
   "cell_type": "markdown",
   "id": "86853a03",
   "metadata": {},
   "source": [
    "## Exercises"
   ]
  },
  {
   "cell_type": "markdown",
   "id": "57d68686",
   "metadata": {},
   "source": [
    "**1- Create a `sum()` function in such a way that we can pass any number of arguments to this function and return the sum of these arguments.**\n",
    "note: use `*args`"
   ]
  },
  {
   "cell_type": "code",
   "execution_count": null,
   "id": "c3e154f2",
   "metadata": {},
   "outputs": [],
   "source": [
    "sum(1,2,3,4,5,6)"
   ]
  },
  {
   "cell_type": "code",
   "execution_count": null,
   "id": "5ba0ff28",
   "metadata": {},
   "outputs": [],
   "source": [
    "sum(1,2,3)"
   ]
  },
  {
   "cell_type": "markdown",
   "id": "4ca1cc99",
   "metadata": {},
   "source": [
    "--- \n",
    "Write a program to create a function show_employee() using the following conditions.\n",
    "\n",
    "* It should accept the employee’s name and salary and display both.\n",
    "* If the salary is missing in the function call then assign default value 9000 to salary"
   ]
  },
  {
   "cell_type": "code",
   "execution_count": null,
   "id": "33e293ae",
   "metadata": {},
   "outputs": [],
   "source": []
  },
  {
   "cell_type": "code",
   "execution_count": null,
   "id": "0f1f3d26",
   "metadata": {},
   "outputs": [],
   "source": []
  },
  {
   "cell_type": "markdown",
   "id": "ff7050e9",
   "metadata": {},
   "source": [
    "### Tic Tac Toe game "
   ]
  },
  {
   "cell_type": "code",
   "execution_count": null,
   "id": "67177668",
   "metadata": {},
   "outputs": [],
   "source": [
    "#code"
   ]
  }
 ],
 "metadata": {
  "kernelspec": {
   "display_name": "Python 3 (ipykernel)",
   "language": "python",
   "name": "python3"
  },
  "language_info": {
   "codemirror_mode": {
    "name": "ipython",
    "version": 3
   },
   "file_extension": ".py",
   "mimetype": "text/x-python",
   "name": "python",
   "nbconvert_exporter": "python",
   "pygments_lexer": "ipython3",
   "version": "3.10.0"
  }
 },
 "nbformat": 4,
 "nbformat_minor": 5
}
