{
 "cells": [
  {
   "cell_type": "markdown",
   "id": "6d7fb663",
   "metadata": {},
   "source": [
    "# Welcome to session 8"
   ]
  },
  {
   "cell_type": "markdown",
   "id": "34ab1495",
   "metadata": {},
   "source": [
    "# Object Oriented Programing (cont.)"
   ]
  },
  {
   "cell_type": "markdown",
   "id": "fc6497e8",
   "metadata": {},
   "source": [
    "### Exercise 1:"
   ]
  },
  {
   "cell_type": "markdown",
   "id": "dd1196cb",
   "metadata": {},
   "source": [
    "Write a Rectangle class in Python language, allowing you to build a rectangle with length and width attributes.\n",
    "<br>-Create a Perimeter() method to calculate the perimeter of the rectangle and a Area() method to calculate the area of ​​the rectangle.\n",
    "<br>-Create a method display() that display the length, width, perimeter and area of an object created using an instantiation on rectangle class."
   ]
  },
  {
   "cell_type": "code",
   "execution_count": null,
   "id": "a4153f7c",
   "metadata": {},
   "outputs": [],
   "source": []
  },
  {
   "cell_type": "markdown",
   "id": "ac37dbbe",
   "metadata": {},
   "source": [
    "### Exercise 2:"
   ]
  },
  {
   "cell_type": "markdown",
   "id": "cc64412b",
   "metadata": {},
   "source": [
    "Create a Python class called BankAccount which represents a bank account, having as attributes: accountNumber (numeric type), name (name of the account owner as string type), balance.\n",
    "<br>-Create a Deposit() method which manages the deposit actions.\n",
    "<br>-Create a Withdrawal() method  which manages withdrawals actions.\n",
    "<br>-Create an bankFees() method to apply the bank fees with a percentage of 5% of the balance account.\n",
    "<br>-Create a display() method to display account details."
   ]
  },
  {
   "cell_type": "code",
   "execution_count": 35,
   "id": "d6f954d5",
   "metadata": {},
   "outputs": [],
   "source": [
    "class BankAccount:\n",
    "    def __init__(self,accountNumber,name,balance=0):\n",
    "        self.accountNumber=accountNumber\n",
    "        self.name = name\n",
    "        self.balance = balance\n",
    "\n",
    "    def withdraw(self, amount):\n",
    "        self.balance -= amount\n",
    "        return self.balance\n",
    "\n",
    "    def deposit(self, amount):\n",
    "        self.balance += amount\n",
    "        return self.balance\n",
    "    def bankFees(self):\n",
    "        fees = 0.05\n",
    "        self.balance *= fees\n",
    "        return self.balance\n",
    "    \n",
    "    def display(self):\n",
    "        print('Your account details:')\n",
    "        print(f'account number: {self.accountNumber}')\n",
    "        print(f'name: {self.name}')\n",
    "        print(f'balance: {self.balance}')\n",
    "        "
   ]
  },
  {
   "cell_type": "code",
   "execution_count": null,
   "id": "7eca03cb",
   "metadata": {},
   "outputs": [],
   "source": []
  },
  {
   "cell_type": "markdown",
   "id": "15ba5760",
   "metadata": {},
   "source": [
    "### Exercise 3:"
   ]
  },
  {
   "cell_type": "markdown",
   "id": "91412707",
   "metadata": {},
   "source": [
    "Write a program to automate your library:\n",
    "<br> you have many books, each book has a title, pages number, size of the page and price.\n",
    "<br>you can `add`,`remove`and `display` books from the library"
   ]
  },
  {
   "cell_type": "code",
   "execution_count": 5,
   "id": "b9727b62",
   "metadata": {},
   "outputs": [],
   "source": [
    "class Book:\n",
    "    def __init__(self, title, pages, page_size, price):\n",
    "        self.title=title\n",
    "        self.pages=pages\n",
    "        self.page_size=page_size\n",
    "        self.price=price\n",
    "    \n",
    "    def display(self):\n",
    "        print(f'The book: {self.title}')\n",
    "        print(f'has {self.pages} at {self.page_size} page size')\n",
    "        print(f'his price is: {self.price}')"
   ]
  },
  {
   "cell_type": "code",
   "execution_count": 17,
   "id": "72c481ff",
   "metadata": {},
   "outputs": [],
   "source": [
    "my_books = []"
   ]
  },
  {
   "cell_type": "code",
   "execution_count": 24,
   "id": "157d89cc",
   "metadata": {},
   "outputs": [],
   "source": [
    "def add_book():\n",
    "    title = input('The book title: ')\n",
    "    pages = input('nomber of pages:')\n",
    "    page_size = input('page size: ')\n",
    "    price = input('book price: ')\n",
    "    book = Book(title, pages, page_size, price)\n",
    "    my_books.append(book)"
   ]
  },
  {
   "cell_type": "code",
   "execution_count": 30,
   "id": "ebb5b926",
   "metadata": {},
   "outputs": [],
   "source": [
    "def display_books():\n",
    "    print(f'You have {len(my_books)} books')\n",
    "    for book in my_books:\n",
    "        book.display()\n",
    "    "
   ]
  },
  {
   "cell_type": "code",
   "execution_count": 31,
   "id": "1103d741",
   "metadata": {},
   "outputs": [],
   "source": [
    "def delete_book(title):\n",
    "    for book in my_books:\n",
    "        if book.title.lower() == title.lower():\n",
    "            my_books.remove(book)"
   ]
  },
  {
   "cell_type": "code",
   "execution_count": 32,
   "id": "d5d5ede3",
   "metadata": {},
   "outputs": [
    {
     "name": "stdout",
     "output_type": "stream",
     "text": [
      "You have 1 books\n",
      "The book: moby dick\n",
      "has 75 at large page size\n",
      "his price is: 3500\n"
     ]
    }
   ],
   "source": [
    "display_books()"
   ]
  },
  {
   "cell_type": "code",
   "execution_count": null,
   "id": "3279a339",
   "metadata": {},
   "outputs": [],
   "source": [
    "add_book()"
   ]
  },
  {
   "cell_type": "code",
   "execution_count": 29,
   "id": "c1faddf9",
   "metadata": {},
   "outputs": [
    {
     "name": "stdout",
     "output_type": "stream",
     "text": [
      "The book: moby dick\n",
      "has 75 at large page size\n",
      "his price is: 3500\n"
     ]
    }
   ],
   "source": [
    "display_books()"
   ]
  },
  {
   "cell_type": "code",
   "execution_count": null,
   "id": "fa05a046",
   "metadata": {},
   "outputs": [],
   "source": []
  },
  {
   "cell_type": "markdown",
   "id": "9b32343d",
   "metadata": {},
   "source": [
    "## Inheritance"
   ]
  },
  {
   "cell_type": "markdown",
   "id": "263cbc78",
   "metadata": {},
   "source": [
    "Inheritance allows us to define a class that inherits all the methods and properties from another class.\n",
    "\n",
    "* Parent class is the class being inherited from, also called base class.\n",
    "\n",
    "* Child class is the class that inherits from another class, also called derived class."
   ]
  },
  {
   "cell_type": "markdown",
   "id": "3aa0d536",
   "metadata": {},
   "source": [
    "**Create a Parent Class**\n",
    "Any class can be a parent class, so the syntax is the same as creating any other class:"
   ]
  },
  {
   "cell_type": "code",
   "execution_count": 36,
   "id": "6575971d",
   "metadata": {},
   "outputs": [
    {
     "name": "stdout",
     "output_type": "stream",
     "text": [
      "John Doe\n"
     ]
    }
   ],
   "source": [
    "class Person:\n",
    "    def __init__(self, fname, lname):\n",
    "        self.firstname = fname\n",
    "        self.lastname = lname\n",
    "\n",
    "    def printname(self):\n",
    "        print(self.firstname, self.lastname)\n",
    "\n",
    "#Use the Person class to create an object, and then execute the printname method:\n",
    "\n",
    "x = Person(\"John\", \"Doe\")\n",
    "x.printname()"
   ]
  },
  {
   "cell_type": "markdown",
   "id": "6d460d90",
   "metadata": {},
   "source": [
    "**Create a Child Class**\n",
    "To create a class that inherits the functionality from another class, send the parent class as a parameter when creating the child class:"
   ]
  },
  {
   "cell_type": "code",
   "execution_count": 37,
   "id": "ff449b87",
   "metadata": {},
   "outputs": [],
   "source": [
    "class Student(Person):\n",
    "    pass"
   ]
  },
  {
   "cell_type": "code",
   "execution_count": 38,
   "id": "96d17d37",
   "metadata": {},
   "outputs": [
    {
     "name": "stdout",
     "output_type": "stream",
     "text": [
      "Mike Olsen\n"
     ]
    }
   ],
   "source": [
    "x = Student(\"Mike\", \"Olsen\")\n",
    "x.printname()"
   ]
  },
  {
   "cell_type": "code",
   "execution_count": null,
   "id": "21b896ec",
   "metadata": {},
   "outputs": [],
   "source": []
  }
 ],
 "metadata": {
  "kernelspec": {
   "display_name": "Python 3 (ipykernel)",
   "language": "python",
   "name": "python3"
  },
  "language_info": {
   "codemirror_mode": {
    "name": "ipython",
    "version": 3
   },
   "file_extension": ".py",
   "mimetype": "text/x-python",
   "name": "python",
   "nbconvert_exporter": "python",
   "pygments_lexer": "ipython3",
   "version": "3.10.0"
  }
 },
 "nbformat": 4,
 "nbformat_minor": 5
}
