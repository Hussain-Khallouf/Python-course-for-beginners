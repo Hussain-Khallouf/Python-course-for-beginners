{
 "cells": [
  {
   "cell_type": "markdown",
   "id": "c5648522",
   "metadata": {},
   "source": [
    "# Welcome to session 1 in python course by Hussain Khallouf"
   ]
  },
  {
   "cell_type": "markdown",
   "id": "58f13abf",
   "metadata": {},
   "source": [
    "## Python Syntax"
   ]
  },
  {
   "cell_type": "markdown",
   "id": "caa5f406",
   "metadata": {},
   "source": [
    "* End-of-Line Terminates a Statement"
   ]
  },
  {
   "cell_type": "code",
   "execution_count": 2,
   "id": "857a4cd7",
   "metadata": {},
   "outputs": [
    {
     "name": "stdout",
     "output_type": "stream",
     "text": [
      "10\n"
     ]
    }
   ],
   "source": [
    "x = 10\n",
    "print(x)"
   ]
  },
  {
   "cell_type": "markdown",
   "id": "22f64df1",
   "metadata": {},
   "source": [
    "if you'd like a statement to continue to the next line, it is possible to use the \"\\\" marker to indicate this:"
   ]
  },
  {
   "cell_type": "code",
   "execution_count": 4,
   "id": "5123a76e",
   "metadata": {},
   "outputs": [],
   "source": [
    "x = 1 + 2 + 3 + 4 +\\\n",
    "    5 + 6 + 7 + 8"
   ]
  },
  {
   "cell_type": "markdown",
   "id": "53058f6b",
   "metadata": {},
   "source": [
    "It is also possible to continue expressions on the next line within parentheses"
   ]
  },
  {
   "cell_type": "code",
   "execution_count": 5,
   "id": "2694bbc3",
   "metadata": {},
   "outputs": [],
   "source": [
    "x = (1 + 2 + 3 + 4 +\n",
    "     5 + 6 + 7 + 8)\n"
   ]
  },
  {
   "cell_type": "markdown",
   "id": "7456ff48",
   "metadata": {},
   "source": [
    "* Indentation: Whitespace Matters!<br>\n",
    "Python differs from most other programming languages because it uses whitespace\n",
    "and indentation to determine block structure"
   ]
  },
  {
   "cell_type": "code",
   "execution_count": 7,
   "id": "809a6d1a",
   "metadata": {},
   "outputs": [
    {
     "name": "stdout",
     "output_type": "stream",
     "text": [
      "less\n",
      "less\n",
      "more\n"
     ]
    }
   ],
   "source": [
    "for i in range(3):\n",
    "    if i < 2:\n",
    "        print('less')\n",
    "    else:\n",
    "        print('more')"
   ]
  },
  {
   "cell_type": "markdown",
   "id": "fd74404f",
   "metadata": {},
   "source": [
    "* Whitespace Within Lines Does Not Matter"
   ]
  },
  {
   "cell_type": "code",
   "execution_count": 8,
   "id": "64ad8a94",
   "metadata": {},
   "outputs": [],
   "source": [
    "x=1+2\n",
    "x = 1 + 2\n",
    "x             =        1    +                2"
   ]
  },
  {
   "cell_type": "markdown",
   "id": "ac167c1f",
   "metadata": {},
   "source": [
    "## print() function\n",
    "You see that the `print` statement writes something on the screen.\n",
    "Try this:\n",
    "```python\n",
    "print('one kilobyte is 2^10 bytes, or', 2 ** 10, 'bytes')\n",
    "```"
   ]
  },
  {
   "cell_type": "code",
   "execution_count": 9,
   "id": "dc7773cc",
   "metadata": {},
   "outputs": [
    {
     "name": "stdout",
     "output_type": "stream",
     "text": [
      "husssain\n"
     ]
    }
   ],
   "source": [
    "print('husssain')"
   ]
  },
  {
   "cell_type": "markdown",
   "id": "31a3f57a",
   "metadata": {},
   "source": [
    "##  Math in Python\n",
    "Type<br>\n",
    "```python\n",
    "1 + 1\n",
    "```\n",
    "and execute the code."
   ]
  },
  {
   "cell_type": "code",
   "execution_count": 10,
   "id": "37ae8361",
   "metadata": {},
   "outputs": [
    {
     "name": "stdout",
     "output_type": "stream",
     "text": [
      "2\n"
     ]
    }
   ],
   "source": [
    "print(1+1)"
   ]
  },
  {
   "cell_type": "markdown",
   "id": "c861d4dc",
   "metadata": {},
   "source": [
    "Now type\n",
    "```python\n",
    "20 + 80\n",
    "```\n",
    "and execute the code."
   ]
  },
  {
   "cell_type": "code",
   "execution_count": 12,
   "id": "f44c1ea7",
   "metadata": {},
   "outputs": [
    {
     "name": "stdout",
     "output_type": "stream",
     "text": [
      "13455\n"
     ]
    }
   ],
   "source": [
    "print(6667+6788)"
   ]
  },
  {
   "cell_type": "markdown",
   "id": "21c61a6b",
   "metadata": {},
   "source": [
    "These are additions. We can of course use other mathematical operators.<br>\n",
    "Try this subtraction:<br>\n",
    "```python\n",
    "6 - 5\n",
    "```"
   ]
  },
  {
   "cell_type": "code",
   "execution_count": 13,
   "id": "39bcd0c3",
   "metadata": {},
   "outputs": [
    {
     "data": {
      "text/plain": [
       "-3"
      ]
     },
     "execution_count": 13,
     "metadata": {},
     "output_type": "execute_result"
    }
   ],
   "source": [
    "5-8"
   ]
  },
  {
   "cell_type": "markdown",
   "id": "55f87191",
   "metadata": {},
   "source": [
    "and this multiplication:<br>\n",
    "```python\n",
    "2 * 5\n",
    "```"
   ]
  },
  {
   "cell_type": "code",
   "execution_count": 14,
   "id": "0994e961",
   "metadata": {},
   "outputs": [
    {
     "data": {
      "text/plain": [
       "28"
      ]
     },
     "execution_count": 14,
     "metadata": {},
     "output_type": "execute_result"
    }
   ],
   "source": [
    "4*7"
   ]
  },
  {
   "cell_type": "markdown",
   "id": "585427cf",
   "metadata": {},
   "source": [
    "Try:\n",
    "```python\n",
    "5 ** 2\n",
    "```\n",
    "`**` is the exponential operator, so we executed 5 squared."
   ]
  },
  {
   "cell_type": "code",
   "execution_count": 15,
   "id": "ae8563ab",
   "metadata": {},
   "outputs": [
    {
     "data": {
      "text/plain": [
       "25"
      ]
     },
     "execution_count": 15,
     "metadata": {},
     "output_type": "execute_result"
    }
   ],
   "source": [
    "5**2"
   ]
  },
  {
   "cell_type": "markdown",
   "id": "956e3776",
   "metadata": {},
   "source": [
    "Now try this:\n",
    "\n",
    "23 / 3"
   ]
  },
  {
   "cell_type": "code",
   "execution_count": 16,
   "id": "5cf49037",
   "metadata": {},
   "outputs": [
    {
     "data": {
      "text/plain": [
       "7.666666666666667"
      ]
     },
     "execution_count": 16,
     "metadata": {},
     "output_type": "execute_result"
    }
   ],
   "source": [
    "23/3"
   ]
  },
  {
   "cell_type": "markdown",
   "id": "c5205f25",
   "metadata": {},
   "source": [
    "And this:<br>\n",
    "```python\n",
    "23 % 3\n",
    "```"
   ]
  },
  {
   "cell_type": "code",
   "execution_count": 17,
   "id": "1506a3ba",
   "metadata": {},
   "outputs": [
    {
     "data": {
      "text/plain": [
       "1"
      ]
     },
     "execution_count": 17,
     "metadata": {},
     "output_type": "execute_result"
    }
   ],
   "source": [
    "23%2"
   ]
  },
  {
   "cell_type": "markdown",
   "id": "04e4a7e1",
   "metadata": {},
   "source": [
    "`%` returns the remainder of the division."
   ]
  },
  {
   "cell_type": "markdown",
   "id": "aa295490",
   "metadata": {},
   "source": [
    "And this:<br>\n",
    "```python\n",
    "23 // 3\n",
    "```"
   ]
  },
  {
   "cell_type": "code",
   "execution_count": 18,
   "id": "2144f84f",
   "metadata": {},
   "outputs": [
    {
     "data": {
      "text/plain": [
       "7"
      ]
     },
     "execution_count": 18,
     "metadata": {},
     "output_type": "execute_result"
    }
   ],
   "source": [
    "23//3"
   ]
  },
  {
   "cell_type": "markdown",
   "id": "2b2d7dc3",
   "metadata": {},
   "source": [
    "Floor Division `//` truncates the decimal without rounding, and returns an integer result."
   ]
  },
  {
   "cell_type": "markdown",
   "id": "2e60176c",
   "metadata": {},
   "source": [
    "## 1.3 Order of Operations"
   ]
  },
  {
   "cell_type": "markdown",
   "id": "985dd6ce",
   "metadata": {},
   "source": [
    "Remember that thing called order of operation that they taught in maths? Well, it applies in Python, too. Here it is, if you need reminding:<br>\n",
    "1. Parenthesis `()`\n",
    "2. Exponents `**`\n",
    "3. Multiplication `*`, division `/` and remainder `%`\n",
    "4. Addition `+` and subtraction `-`"
   ]
  },
  {
   "cell_type": "markdown",
   "id": "f156d74a",
   "metadata": {},
   "source": [
    "Here are some examples that you might want to try, if you're rusty on this:<br>\n",
    "```python\n",
    "1 + 2 * 3\n",
    "(1 + 2) * 3\n",
    "\n",
    "```"
   ]
  },
  {
   "cell_type": "code",
   "execution_count": 19,
   "id": "d910a4da",
   "metadata": {},
   "outputs": [
    {
     "data": {
      "text/plain": [
       "3"
      ]
     },
     "execution_count": 19,
     "metadata": {},
     "output_type": "execute_result"
    }
   ],
   "source": [
    "1+1*2"
   ]
  },
  {
   "cell_type": "code",
   "execution_count": 20,
   "id": "691da204",
   "metadata": {},
   "outputs": [
    {
     "data": {
      "text/plain": [
       "31"
      ]
     },
     "execution_count": 20,
     "metadata": {},
     "output_type": "execute_result"
    }
   ],
   "source": [
    "6*5 - 6//4 + 11%3"
   ]
  },
  {
   "cell_type": "markdown",
   "id": "9d2e5ec0",
   "metadata": {},
   "source": [
    "## 1.4 Comments\n",
    "The final thing you'll need to know to move on to multi-line programs is the comment. Type the following (and yes, the output is shown):\n",
    "```python\n",
    "# I am a comment. Fear my wrath!\n",
    "```"
   ]
  },
  {
   "cell_type": "code",
   "execution_count": 21,
   "id": "20719f76",
   "metadata": {},
   "outputs": [],
   "source": [
    "# I am a comment. Fear my wrath!gghhtttttttteee"
   ]
  },
  {
   "cell_type": "markdown",
   "id": "77bc1af8",
   "metadata": {},
   "source": [
    "A comment is a piece of code that is not run. In Python, you make something a comment by putting a hash in front of it. A hash comments everything after it in the line, and nothing before it. So you could type this:\n",
    "```python\n",
    "print(\"food is very nice\") #eat me\n",
    "```"
   ]
  },
  {
   "cell_type": "code",
   "execution_count": 22,
   "id": "17ccc68f",
   "metadata": {},
   "outputs": [
    {
     "name": "stdout",
     "output_type": "stream",
     "text": [
      "food is very nice\n"
     ]
    }
   ],
   "source": [
    "print(\"food is very nice\") #eat me"
   ]
  },
  {
   "cell_type": "markdown",
   "id": "810e87e8",
   "metadata": {},
   "source": [
    "This results in a normal output, without the smutty comment, thank you very much.\n",
    "\n",
    "Now try this:\n",
    "```python\n",
    "# print(\"food is very nice\")\n",
    "```"
   ]
  },
  {
   "cell_type": "code",
   "execution_count": 24,
   "id": "3fdce4ab",
   "metadata": {},
   "outputs": [],
   "source": [
    "# print(\"food is very nice\")"
   ]
  },
  {
   "cell_type": "markdown",
   "id": "c5243a44",
   "metadata": {},
   "source": [
    "Nothing happens, because the code was after a comment."
   ]
  },
  {
   "cell_type": "markdown",
   "id": "a0872b6b",
   "metadata": {},
   "source": [
    "Comments are important for adding necessary information for another programmer to read, but not the computer. For example, an explanation of a section of code, saying what it does, or what is wrong with it. You can also comment bits of code by putting a `#` in front of it - if you don't want it to compile, but can't delete it because you might need it later."
   ]
  },
  {
   "cell_type": "markdown",
   "id": "c05e77e3",
   "metadata": {},
   "source": [
    "# data types"
   ]
  },
  {
   "cell_type": "markdown",
   "id": "20c53f19",
   "metadata": {},
   "source": [
    "| Data Type             |  Represents              | Examples            |\n",
    "|-----------------------|--------------------------|---------------------|\n",
    "| integer            | whole numbers            | -5, 0, 123          |\n",
    "| floating point (real) | fractional numbers       | -87.5, 0.0, 3.14159 |\n",
    "| string                | A sequence of characters | \"Hello world!\"      |\n",
    "| Boolean               | logical true or false    | true, false         |\n",
    "| nothing               | no data                  | null                |"
   ]
  },
  {
   "cell_type": "markdown",
   "id": "76051343",
   "metadata": {},
   "source": [
    "## variables\n",
    "A Python variable is a reserved memory location to store values. In other words, a\n",
    "variable in a python program gives data to the computer for processing.\n",
    "Every value in Python has a datatype. Different data types in Python are Numbers,\n",
    "List, Tuple, Strings, Dictionary, etc. Variables can be declared by any name or even\n",
    "alphabets like a, aa, abc, etc\n",
    "Variable Naming Rules in Python\n",
    "1. Variable name should start with letter(a-zA-Z) or underscore (_).\n",
    "* Valid : age , _age , Age\n",
    "* Invalid : 1age\n",
    "2. In variable name, no special characters allowed other than underscore (_).\n",
    "* Valid : age_ , _age\n",
    "* Invalid : age_*\n",
    "3. Variables are case sensitive.\n",
    "* age and Age are different, since variable names are case sensitive.\n",
    "4. Variable name can have numbers but not at the beginning.\n",
    "* Example: Age1\n",
    "5. Variable name should not be a Python keyword.Keywords are also called as reserved words.\n",
    "* Example :pass, break, continue.. etc are reserved for special meaning in Python. So, we should not declare keyword as a variable name.\n",
    "6. it's considered best practice ([PEP8](https://www.python.org/dev/peps/pep-0008/#function-and-variable-names)) that names are lowercase with underscores\n",
    "* Example :http_connected='connected'"
   ]
  },
  {
   "cell_type": "markdown",
   "id": "bc1e2092",
   "metadata": {},
   "source": [
    "## Assigning Variables\n",
    "Variable assignment follows `name = object`, where a single equals sign `=` is an *assignment operator*\n",
    "\n",
    "Python code to create a variable called\n",
    "`x` and assign the value `5` to that variable is:"
   ]
  },
  {
   "cell_type": "code",
   "execution_count": 1,
   "id": "761487da",
   "metadata": {},
   "outputs": [],
   "source": [
    "x = 5"
   ]
  },
  {
   "cell_type": "markdown",
   "id": "f2912b85",
   "metadata": {},
   "source": [
    "## Python is a dynamically typed language.\n",
    "\n",
    "What is dynamic? We don't have to declare the type of variable while assigning a value to a variable in Python. Other languages like C, C++, Java, etc.., there is a strict declaration of variables before assigning values to them.\n",
    "\n",
    "Python don't have any problem even if we don't declare the type of variable. It states the kind of variable in the runtime of the program. So, Python is a dynamically typed language."
   ]
  },
  {
   "cell_type": "code",
   "execution_count": 11,
   "id": "1fa53c82",
   "metadata": {},
   "outputs": [
    {
     "data": {
      "text/plain": [
       "15"
      ]
     },
     "execution_count": 11,
     "metadata": {},
     "output_type": "execute_result"
    }
   ],
   "source": [
    "x = 10\n",
    "y = 5\n",
    "x + y"
   ]
  },
  {
   "cell_type": "markdown",
   "id": "08df65bd",
   "metadata": {},
   "source": [
    "## Reassigning Variables\n",
    "Yes! Python allows you to write over assigned variable names. We can also use the variables themselves when doing the reassignment. Here is an example of what I mean:"
   ]
  },
  {
   "cell_type": "code",
   "execution_count": 9,
   "id": "5026e8f6",
   "metadata": {},
   "outputs": [
    {
     "data": {
      "text/plain": [
       "10"
      ]
     },
     "execution_count": 9,
     "metadata": {},
     "output_type": "execute_result"
    }
   ],
   "source": [
    "x"
   ]
  },
  {
   "cell_type": "code",
   "execution_count": 25,
   "id": "555371a6",
   "metadata": {},
   "outputs": [
    {
     "data": {
      "text/plain": [
       "30"
      ]
     },
     "execution_count": 25,
     "metadata": {},
     "output_type": "execute_result"
    }
   ],
   "source": [
    "x = 30\n",
    "x"
   ]
  },
  {
   "cell_type": "code",
   "execution_count": 26,
   "id": "c93c09f2",
   "metadata": {},
   "outputs": [
    {
     "data": {
      "text/plain": [
       "35"
      ]
     },
     "execution_count": 26,
     "metadata": {},
     "output_type": "execute_result"
    }
   ],
   "source": [
    "x = x + 5\n",
    "x"
   ]
  },
  {
   "cell_type": "markdown",
   "id": "361bc54c",
   "metadata": {},
   "source": [
    "There's actually a shortcut for this. Python lets you add, subtract, multiply and divide numbers with reassignment using `+=`, `-=`, `*=`, and `/=`."
   ]
  },
  {
   "cell_type": "code",
   "execution_count": 27,
   "id": "e12a9e09",
   "metadata": {},
   "outputs": [],
   "source": [
    "x += 10"
   ]
  },
  {
   "cell_type": "code",
   "execution_count": 28,
   "id": "876b0701",
   "metadata": {},
   "outputs": [
    {
     "data": {
      "text/plain": [
       "45"
      ]
     },
     "execution_count": 28,
     "metadata": {},
     "output_type": "execute_result"
    }
   ],
   "source": [
    "x"
   ]
  },
  {
   "cell_type": "code",
   "execution_count": 29,
   "id": "a8754ca2",
   "metadata": {},
   "outputs": [],
   "source": [
    "x *= 2"
   ]
  },
  {
   "cell_type": "code",
   "execution_count": 30,
   "id": "dba3132b",
   "metadata": {},
   "outputs": [
    {
     "data": {
      "text/plain": [
       "90"
      ]
     },
     "execution_count": 30,
     "metadata": {},
     "output_type": "execute_result"
    }
   ],
   "source": [
    "x"
   ]
  },
  {
   "cell_type": "code",
   "execution_count": 31,
   "id": "a5f291fc",
   "metadata": {},
   "outputs": [
    {
     "data": {
      "text/plain": [
       "30.0"
      ]
     },
     "execution_count": 31,
     "metadata": {},
     "output_type": "execute_result"
    }
   ],
   "source": [
    "x /= 3\n",
    "x"
   ]
  },
  {
   "cell_type": "markdown",
   "id": "b3e272e8",
   "metadata": {},
   "source": [
    "## Determining variable type with `type()`\n",
    "You can check what type of object is assigned to a variable using Python's built-in `type()` function. Common data types include:\n",
    "* **int** (for integer)\n",
    "* **float**\n",
    "* **str** (for string)\n",
    "* **list**\n",
    "* **tuple**\n",
    "* **dict** (for dictionary)\n",
    "* **set**\n",
    "* **bool** (for Boolean True/False)"
   ]
  },
  {
   "cell_type": "code",
   "execution_count": 15,
   "id": "cbd796b5",
   "metadata": {},
   "outputs": [
    {
     "data": {
      "text/plain": [
       "int"
      ]
     },
     "execution_count": 15,
     "metadata": {},
     "output_type": "execute_result"
    }
   ],
   "source": [
    "type(x)"
   ]
  },
  {
   "cell_type": "code",
   "execution_count": 16,
   "id": "e7dbb39f",
   "metadata": {},
   "outputs": [],
   "source": [
    "a = (1,2)"
   ]
  },
  {
   "cell_type": "code",
   "execution_count": 17,
   "id": "26125d1a",
   "metadata": {},
   "outputs": [
    {
     "data": {
      "text/plain": [
       "tuple"
      ]
     },
     "execution_count": 17,
     "metadata": {},
     "output_type": "execute_result"
    }
   ],
   "source": [
    "type(a)"
   ]
  },
  {
   "cell_type": "markdown",
   "id": "fe4e26c9",
   "metadata": {},
   "source": [
    "However, in Python variables aren’t buckets. Instead, they’re `labels` or tags that refer\n",
    "to objects in the Python interpreter’s namespace. Any number of labels (or variables)\n",
    "can refer to the same object, and when that object changes, the value referred to by\n",
    "all of those variables also changes."
   ]
  },
  {
   "cell_type": "code",
   "execution_count": 6,
   "id": "736674b1",
   "metadata": {},
   "outputs": [
    {
     "name": "stdout",
     "output_type": "stream",
     "text": [
      "[1, 5, 3] [1, 5, 3] [1, 5, 3]\n"
     ]
    }
   ],
   "source": [
    "a = [1, 2, 3]\n",
    "b = a\n",
    "c = b\n",
    "b[1] = 5\n",
    "print(a, b, c)"
   ]
  },
  {
   "cell_type": "markdown",
   "id": "944d747b",
   "metadata": {},
   "source": [
    "### Pros and Cons of Dynamic Typing\n",
    "#### Pros of Dynamic Typing\n",
    "* very easy to work with\n",
    "* faster development time\n",
    "\n",
    "#### Cons of Dynamic Typing\n",
    "* may result in unexpected bugs!\n",
    "* you need to be aware of `type()`"
   ]
  },
  {
   "cell_type": "markdown",
   "id": "ba29b9d4",
   "metadata": {},
   "source": [
    "## Simple Exercise\n",
    "This shows how variables make calculations more readable and easier to follow."
   ]
  },
  {
   "cell_type": "code",
   "execution_count": 26,
   "id": "31955f77",
   "metadata": {},
   "outputs": [],
   "source": [
    "my_salary = 100\n",
    "taxes_rate = 0.1\n",
    "taxes_value = my_salary * taxes_rate"
   ]
  },
  {
   "cell_type": "code",
   "execution_count": 27,
   "id": "9552fce6",
   "metadata": {},
   "outputs": [
    {
     "data": {
      "text/plain": [
       "10.0"
      ]
     },
     "execution_count": 27,
     "metadata": {},
     "output_type": "execute_result"
    }
   ],
   "source": [
    "taxes_value"
   ]
  },
  {
   "cell_type": "code",
   "execution_count": 28,
   "id": "927e2d7f",
   "metadata": {},
   "outputs": [],
   "source": [
    "# Exercise 2\n",
    "# input: any number of four decimal digit (abcd)\n",
    "# output: each digit alone\n",
    "# input: 1234\n",
    "# ouput: 1 , 2 , 3 , 4\n",
    "\n",
    "\n",
    "x = 2145\n",
    "\n"
   ]
  },
  {
   "cell_type": "code",
   "execution_count": null,
   "id": "a807469a",
   "metadata": {},
   "outputs": [],
   "source": []
  },
  {
   "cell_type": "markdown",
   "id": "72c74f92",
   "metadata": {},
   "source": [
    "# Built-in data types in python\n"
   ]
  },
  {
   "cell_type": "markdown",
   "id": "14b53b10",
   "metadata": {},
   "source": [
    "## Numbers"
   ]
  },
  {
   "cell_type": "markdown",
   "id": "9663ffbb",
   "metadata": {},
   "source": [
    "Python offers four kinds of numbers: integers, floats, complex numbers, and Booleans.\n",
    "* An integer constant is written as an integer—0, –11, +33, 123456—and has unlimited range\n",
    "* A float can be written with a decimal point or in scientific notation: 3.14, 2.718281828.\n",
    "* Booleans are either True or False and behave identically to 1 and 0 except for their string representations."
   ]
  },
  {
   "cell_type": "code",
   "execution_count": 10,
   "id": "4e9c0f07",
   "metadata": {},
   "outputs": [
    {
     "name": "stdout",
     "output_type": "stream",
     "text": [
      "10\n"
     ]
    }
   ],
   "source": [
    "x = 5\n",
    "y = 5\n",
    "print(x + y)"
   ]
  },
  {
   "cell_type": "code",
   "execution_count": 11,
   "id": "90fc4e19",
   "metadata": {},
   "outputs": [
    {
     "name": "stdout",
     "output_type": "stream",
     "text": [
      "15.1\n"
     ]
    }
   ],
   "source": [
    "x = 10\n",
    "y = 5.1\n",
    "print(x + y)"
   ]
  },
  {
   "cell_type": "code",
   "execution_count": 16,
   "id": "9a0c4e6f",
   "metadata": {},
   "outputs": [
    {
     "name": "stdout",
     "output_type": "stream",
     "text": [
      "-10\n"
     ]
    }
   ],
   "source": [
    "x = 5\n",
    "y = 15\n",
    "print(x - y)"
   ]
  },
  {
   "cell_type": "markdown",
   "id": "db26b3af",
   "metadata": {},
   "source": [
    "`int()`, `float()` These are explicit conversions between types"
   ]
  },
  {
   "cell_type": "code",
   "execution_count": 14,
   "id": "134f1208",
   "metadata": {},
   "outputs": [
    {
     "name": "stdout",
     "output_type": "stream",
     "text": [
      "5\n"
     ]
    }
   ],
   "source": [
    "x = 5.5 \n",
    "y = int(x)\n",
    "print(y)"
   ]
  },
  {
   "cell_type": "code",
   "execution_count": 17,
   "id": "9b694e68",
   "metadata": {},
   "outputs": [
    {
     "name": "stdout",
     "output_type": "stream",
     "text": [
      "5.0\n"
     ]
    }
   ],
   "source": [
    "x = 5\n",
    "y = float(x)\n",
    "print(y)"
   ]
  },
  {
   "cell_type": "markdown",
   "id": "9b7845e4",
   "metadata": {},
   "source": [
    "**note:** division of two integers results in a float."
   ]
  },
  {
   "cell_type": "code",
   "execution_count": 20,
   "id": "5cd547c9",
   "metadata": {},
   "outputs": [
    {
     "name": "stdout",
     "output_type": "stream",
     "text": [
      "3.0\n"
     ]
    }
   ],
   "source": [
    "x = 15\n",
    "y = 5\n",
    "print(x / y)"
   ]
  },
  {
   "cell_type": "markdown",
   "id": "5f937e87",
   "metadata": {},
   "source": [
    "Python provides the following number-related functions as part of its core:\n",
    "`float, int, abs, max, min, pow, round`"
   ]
  },
  {
   "cell_type": "code",
   "execution_count": null,
   "id": "53f9d449",
   "metadata": {},
   "outputs": [],
   "source": []
  },
  {
   "cell_type": "markdown",
   "id": "28c2dfb7",
   "metadata": {},
   "source": [
    "## Booleans\n",
    "\n",
    "Python  comes with Booleans (with predefined `True` and `False` displays that are basically just the integers 1 and 0)."
   ]
  },
  {
   "cell_type": "code",
   "execution_count": 35,
   "id": "cde7fab0",
   "metadata": {},
   "outputs": [],
   "source": [
    "# Set object to be a boolean\n",
    "a = True"
   ]
  },
  {
   "cell_type": "code",
   "execution_count": 36,
   "id": "19121c1e",
   "metadata": {},
   "outputs": [
    {
     "data": {
      "text/plain": [
       "True"
      ]
     },
     "execution_count": 36,
     "metadata": {},
     "output_type": "execute_result"
    }
   ],
   "source": [
    "a"
   ]
  },
  {
   "cell_type": "markdown",
   "id": "e94098b0",
   "metadata": {},
   "source": [
    "## The None value"
   ]
  },
  {
   "cell_type": "markdown",
   "id": "bc2b58ee",
   "metadata": {},
   "source": [
    "In addition to standard types such as strings and numbers, Python has a special basic\n",
    "data type that defines a single special data object called None."
   ]
  },
  {
   "cell_type": "code",
   "execution_count": 22,
   "id": "98424aed",
   "metadata": {},
   "outputs": [
    {
     "name": "stdout",
     "output_type": "stream",
     "text": [
      "None\n"
     ]
    }
   ],
   "source": [
    "x = None\n",
    "print(x)"
   ]
  },
  {
   "cell_type": "markdown",
   "id": "03b1681a",
   "metadata": {},
   "source": [
    "## Strings"
   ]
  },
  {
   "cell_type": "markdown",
   "id": "b1511854",
   "metadata": {},
   "source": [
    "You’ve already seen that Python, like most other programming languages, indicates\n",
    "strings through the use of double quotes. This line leaves the string `\"Hello, World\"`\n",
    "in the variable `x`:"
   ]
  },
  {
   "cell_type": "code",
   "execution_count": 23,
   "id": "ad4588fa",
   "metadata": {},
   "outputs": [],
   "source": [
    "x = \"Hello, World\""
   ]
  },
  {
   "cell_type": "markdown",
   "id": "5afa495e",
   "metadata": {},
   "source": [
    "**Backslashes** can be used to *escape characters*, to give them special meanings. `\\n`\n",
    "means the newline character, `\\t` means the tab character, `\\\\` means a single normal\n",
    "backslash character, and `\\\"` is a plain double-quote character."
   ]
  },
  {
   "cell_type": "code",
   "execution_count": 26,
   "id": "52123ca0",
   "metadata": {},
   "outputs": [
    {
     "name": "stdout",
     "output_type": "stream",
     "text": [
      "A\tThis string starts with a \"tab\".\n"
     ]
    }
   ],
   "source": [
    "x = \"A\\tThis string starts with a \\\"tab\\\".\"\n",
    "print(x)"
   ]
  },
  {
   "cell_type": "code",
   "execution_count": 30,
   "id": "e0be1c91",
   "metadata": {},
   "outputs": [
    {
     "name": "stdout",
     "output_type": "stream",
     "text": [
      "This string \n",
      "contains a single backslash(\\).\n"
     ]
    }
   ],
   "source": [
    "x = \"This string \\ncontains a single backslash(\\\\).\"\n",
    "print(x)"
   ]
  },
  {
   "cell_type": "markdown",
   "id": "aeee90bc",
   "metadata": {},
   "source": [
    "You can use single quotes instead of double quotes. The following two lines do the\n",
    "same thing:"
   ]
  },
  {
   "cell_type": "code",
   "execution_count": 31,
   "id": "229ea266",
   "metadata": {},
   "outputs": [],
   "source": [
    "x = \"Hello, World\"\n",
    "x = 'Hello, World'"
   ]
  },
  {
   "cell_type": "markdown",
   "id": "b207b9f6",
   "metadata": {},
   "source": [
    "The only difference is that you don’t need to backslash \" characters in single-quoted\n",
    "strings or ' characters in double-quoted strings:"
   ]
  },
  {
   "cell_type": "code",
   "execution_count": 34,
   "id": "8b53d072",
   "metadata": {},
   "outputs": [
    {
     "name": "stdout",
     "output_type": "stream",
     "text": [
      "Don't need a backslash\n"
     ]
    }
   ],
   "source": [
    "x = \"Don't need a backslash\"\n",
    "print(x)"
   ]
  },
  {
   "cell_type": "markdown",
   "id": "9d5601d4",
   "metadata": {},
   "source": [
    "**note:** You can’t split a normal string across lines."
   ]
  },
  {
   "cell_type": "code",
   "execution_count": 35,
   "id": "9a122fea",
   "metadata": {},
   "outputs": [
    {
     "ename": "SyntaxError",
     "evalue": "invalid syntax (<ipython-input-35-3ecc38a460b8>, line 1)",
     "output_type": "error",
     "traceback": [
      "\u001b[1;36m  File \u001b[1;32m\"<ipython-input-35-3ecc38a460b8>\"\u001b[1;36m, line \u001b[1;32m1\u001b[0m\n\u001b[1;33m    x = \"Starting and ending a string with triple \" characters\u001b[0m\n\u001b[1;37m                                                    ^\u001b[0m\n\u001b[1;31mSyntaxError\u001b[0m\u001b[1;31m:\u001b[0m invalid syntax\n"
     ]
    }
   ],
   "source": [
    "x = \"Starting and ending a string with triple \" characters\n",
    "permits embedded newlines, and the use of \" and ' without\n",
    "backslashes\""
   ]
  },
  {
   "cell_type": "markdown",
   "id": "3507ff7e",
   "metadata": {},
   "source": [
    "But Python offers *triple-quoted* strings, which let you do this and include single and\n",
    "double quotes without backslashes:"
   ]
  },
  {
   "cell_type": "code",
   "execution_count": 18,
   "id": "63867f3d",
   "metadata": {},
   "outputs": [],
   "source": [
    "x = \"\"\"Starting and ending a string with triple \" characters\n",
    "permits embedded newlines, and the use of \" and ' without\n",
    "backslashes\"\"\""
   ]
  },
  {
   "cell_type": "markdown",
   "id": "ee4ae485",
   "metadata": {},
   "source": [
    "We can also use a function called len() to check the length of a string!"
   ]
  },
  {
   "cell_type": "code",
   "execution_count": 9,
   "id": "7e6081ae",
   "metadata": {},
   "outputs": [
    {
     "data": {
      "text/plain": [
       "11"
      ]
     },
     "execution_count": 9,
     "metadata": {},
     "output_type": "execute_result"
    }
   ],
   "source": [
    "len('Hello World')"
   ]
  },
  {
   "cell_type": "markdown",
   "id": "38ea4b41",
   "metadata": {},
   "source": [
    "We can also use a function called len() to check the length of a string!"
   ]
  },
  {
   "cell_type": "code",
   "execution_count": 19,
   "id": "980c41ad",
   "metadata": {},
   "outputs": [
    {
     "data": {
      "text/plain": [
       "11"
      ]
     },
     "execution_count": 19,
     "metadata": {},
     "output_type": "execute_result"
    }
   ],
   "source": [
    "len('Hello World')"
   ]
  },
  {
   "cell_type": "markdown",
   "id": "5f8f8ca6",
   "metadata": {},
   "source": [
    "We can use the multiplication symbol to create repetition!"
   ]
  },
  {
   "cell_type": "code",
   "execution_count": 20,
   "id": "19159552",
   "metadata": {},
   "outputs": [],
   "source": [
    "letter = 'z'"
   ]
  },
  {
   "cell_type": "code",
   "execution_count": 22,
   "id": "be4f2025",
   "metadata": {},
   "outputs": [
    {
     "data": {
      "text/plain": [
       "'zzzzzzzzzz'"
      ]
     },
     "execution_count": 22,
     "metadata": {},
     "output_type": "execute_result"
    }
   ],
   "source": [
    "letter*10"
   ]
  },
  {
   "cell_type": "markdown",
   "id": "e3a0682c",
   "metadata": {},
   "source": [
    "## Basic Built-in String methods\n",
    "\n",
    "Objects in Python usually have built-in methods. These methods are functions inside the object that can perform actions or commands on the object itself.\n",
    "\n",
    "We call methods with a period and then the method name. Methods are in the form:\n",
    "\n",
    "```python\n",
    "object.method(parameters)\n",
    "```\n",
    "\n",
    "Where parameters are extra arguments we can pass into the method.\n",
    "\n",
    "Here are some examples of built-in methods in strings:"
   ]
  },
  {
   "cell_type": "code",
   "execution_count": 24,
   "id": "e8113f73",
   "metadata": {},
   "outputs": [
    {
     "data": {
      "text/plain": [
       "'Hello World concatenate me!'"
      ]
     },
     "execution_count": 24,
     "metadata": {},
     "output_type": "execute_result"
    }
   ],
   "source": [
    "s = 'Hello World concatenate me!'\n",
    "s"
   ]
  },
  {
   "cell_type": "code",
   "execution_count": 25,
   "id": "3fcacd8d",
   "metadata": {},
   "outputs": [
    {
     "data": {
      "text/plain": [
       "'HELLO WORLD CONCATENATE ME!'"
      ]
     },
     "execution_count": 25,
     "metadata": {},
     "output_type": "execute_result"
    }
   ],
   "source": [
    "# Upper Case a string\n",
    "s.upper()"
   ]
  },
  {
   "cell_type": "code",
   "execution_count": 26,
   "id": "18ee0754",
   "metadata": {},
   "outputs": [
    {
     "data": {
      "text/plain": [
       "'hello world concatenate me!'"
      ]
     },
     "execution_count": 26,
     "metadata": {},
     "output_type": "execute_result"
    }
   ],
   "source": [
    "# Lower case\n",
    "s.lower()"
   ]
  },
  {
   "cell_type": "code",
   "execution_count": 27,
   "id": "3d61afdd",
   "metadata": {},
   "outputs": [
    {
     "data": {
      "text/plain": [
       "['Hello', 'World', 'concatenate', 'me!']"
      ]
     },
     "execution_count": 27,
     "metadata": {},
     "output_type": "execute_result"
    }
   ],
   "source": [
    "# Split a string by blank space (this is the default)\n",
    "s.split()"
   ]
  },
  {
   "cell_type": "code",
   "execution_count": 28,
   "id": "aa56982f",
   "metadata": {},
   "outputs": [
    {
     "data": {
      "text/plain": [
       "['Hello ', 'orld concatenate me!']"
      ]
     },
     "execution_count": 28,
     "metadata": {},
     "output_type": "execute_result"
    }
   ],
   "source": [
    "# Split by a specific element (doesn't include the element that was split on)\n",
    "s.split('W')"
   ]
  },
  {
   "cell_type": "code",
   "execution_count": 30,
   "id": "c271277c",
   "metadata": {},
   "outputs": [
    {
     "data": {
      "text/plain": [
       "'Iello World concatenate me!'"
      ]
     },
     "execution_count": 30,
     "metadata": {},
     "output_type": "execute_result"
    }
   ],
   "source": [
    "s.replace('H' , 'I')"
   ]
  },
  {
   "cell_type": "markdown",
   "id": "140a6e87",
   "metadata": {},
   "source": [
    "## Formatted String Literals (f-strings)"
   ]
  },
  {
   "cell_type": "markdown",
   "id": "54610f91",
   "metadata": {},
   "source": [
    "Introduced in Python 3.6, f-strings offer several benefits,where you can bring outside variables immediately into to the string."
   ]
  },
  {
   "cell_type": "code",
   "execution_count": 32,
   "id": "7d14b557",
   "metadata": {},
   "outputs": [
    {
     "name": "stdout",
     "output_type": "stream",
     "text": [
      "He said his name is Hussein.\n"
     ]
    }
   ],
   "source": [
    "name = 'Hussein'\n",
    "\n",
    "print(f\"He said his name is {name}.\")"
   ]
  },
  {
   "cell_type": "markdown",
   "id": "7108c67d",
   "metadata": {},
   "source": [
    "### Exercise\n",
    "create a string and print only the odd items in it<br>\n",
    "input: ababab<br>\n",
    "output: bbb\n"
   ]
  },
  {
   "cell_type": "code",
   "execution_count": null,
   "id": "274080c7",
   "metadata": {},
   "outputs": [],
   "source": []
  },
  {
   "cell_type": "markdown",
   "id": "e2498a8d",
   "metadata": {},
   "source": [
    "## Getting input from the user\n",
    "You can use the `input()` function to get input from the user. Use the prompt\n",
    "string you want to display to the user as `input’`s parameter"
   ]
  },
  {
   "cell_type": "code",
   "execution_count": 1,
   "id": "6afe08be",
   "metadata": {},
   "outputs": [
    {
     "name": "stdout",
     "output_type": "stream",
     "text": [
      "aa\n",
      "aa\n"
     ]
    }
   ],
   "source": [
    "data = input()\n",
    "print(data)"
   ]
  },
  {
   "cell_type": "code",
   "execution_count": 2,
   "id": "881f392d",
   "metadata": {},
   "outputs": [
    {
     "name": "stdout",
     "output_type": "stream",
     "text": [
      "messageaa\n",
      "aa\n"
     ]
    }
   ],
   "source": [
    "data = input('message')\n",
    "print(data)"
   ]
  },
  {
   "cell_type": "markdown",
   "id": "77a64ece",
   "metadata": {},
   "source": [
    "**Exercise:** Ask the user what is his name, the see hello"
   ]
  },
  {
   "cell_type": "code",
   "execution_count": null,
   "id": "e38b82ac",
   "metadata": {},
   "outputs": [],
   "source": []
  },
  {
   "cell_type": "markdown",
   "id": "48011ef7",
   "metadata": {},
   "source": [
    "**Exercise:** Accept two numbers from the user and return their sum, multiplication and division."
   ]
  },
  {
   "cell_type": "code",
   "execution_count": null,
   "id": "66b2e012",
   "metadata": {},
   "outputs": [],
   "source": []
  },
  {
   "cell_type": "markdown",
   "id": "3eb465e1",
   "metadata": {},
   "source": [
    "**Exercise:** ask the user for the birthyear, then calculate user age in days."
   ]
  },
  {
   "cell_type": "code",
   "execution_count": null,
   "id": "45f35180",
   "metadata": {},
   "outputs": [],
   "source": []
  },
  {
   "cell_type": "markdown",
   "id": "8fe19e7e",
   "metadata": {},
   "source": [
    "# The End."
   ]
  }
 ],
 "metadata": {
  "kernelspec": {
   "display_name": "Python 3 (ipykernel)",
   "language": "python",
   "name": "python3"
  },
  "language_info": {
   "codemirror_mode": {
    "name": "ipython",
    "version": 3
   },
   "file_extension": ".py",
   "mimetype": "text/x-python",
   "name": "python",
   "nbconvert_exporter": "python",
   "pygments_lexer": "ipython3",
   "version": "3.7.9"
  }
 },
 "nbformat": 4,
 "nbformat_minor": 5
}
